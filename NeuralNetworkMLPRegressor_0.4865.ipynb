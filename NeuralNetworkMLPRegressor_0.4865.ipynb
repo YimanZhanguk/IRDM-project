{
 "cells": [
  {
   "cell_type": "code",
   "execution_count": 1,
   "metadata": {
    "collapsed": true
   },
   "outputs": [],
   "source": [
    "import numpy as np\n",
    "import pandas as pd\n",
    "from sklearn.ensemble import RandomForestRegressor, BaggingRegressor\n",
    "from nltk.stem.snowball import SnowballStemmer\n",
    "import warnings; warnings.filterwarnings(\"ignore\");\n",
    "from sklearn.metrics import mean_squared_error, make_scorer\n",
    "\n",
    "stemmer = SnowballStemmer('english')\n",
    "df_train = pd.read_csv('train.csv', encoding=\"ISO-8859-1\") #update here 74067\n",
    "df_test = pd.read_csv('test.csv', encoding=\"ISO-8859-1\") #update here 166693\n",
    "df_pro_desc = pd.read_csv('product_descriptions.csv')[:64000] #update here 64000\n",
    "df_attr = pd.read_csv('attributes.csv')\n",
    "num_train = df_train.shape[0]"
   ]
  },
  {
   "cell_type": "code",
   "execution_count": 2,
   "metadata": {
    "collapsed": false
   },
   "outputs": [
    {
     "data": {
      "text/html": [
       "<div>\n",
       "<table border=\"1\" class=\"dataframe\">\n",
       "  <thead>\n",
       "    <tr style=\"text-align: right;\">\n",
       "      <th></th>\n",
       "      <th>product_uid</th>\n",
       "      <th>brand</th>\n",
       "    </tr>\n",
       "  </thead>\n",
       "  <tbody>\n",
       "    <tr>\n",
       "      <th>9</th>\n",
       "      <td>100001.0</td>\n",
       "      <td>Simpson Strong-Tie</td>\n",
       "    </tr>\n",
       "    <tr>\n",
       "      <th>37</th>\n",
       "      <td>100002.0</td>\n",
       "      <td>BEHR Premium Textured DeckOver</td>\n",
       "    </tr>\n",
       "    <tr>\n",
       "      <th>69</th>\n",
       "      <td>100003.0</td>\n",
       "      <td>STERLING</td>\n",
       "    </tr>\n",
       "    <tr>\n",
       "      <th>93</th>\n",
       "      <td>100004.0</td>\n",
       "      <td>Grape Solar</td>\n",
       "    </tr>\n",
       "    <tr>\n",
       "      <th>122</th>\n",
       "      <td>100005.0</td>\n",
       "      <td>Delta</td>\n",
       "    </tr>\n",
       "    <tr>\n",
       "      <th>163</th>\n",
       "      <td>100006.0</td>\n",
       "      <td>Whirlpool</td>\n",
       "    </tr>\n",
       "    <tr>\n",
       "      <th>204</th>\n",
       "      <td>100007.0</td>\n",
       "      <td>Lithonia Lighting</td>\n",
       "    </tr>\n",
       "    <tr>\n",
       "      <th>236</th>\n",
       "      <td>100008.0</td>\n",
       "      <td>Teks</td>\n",
       "    </tr>\n",
       "    <tr>\n",
       "      <th>256</th>\n",
       "      <td>100009.0</td>\n",
       "      <td>House of Fara</td>\n",
       "    </tr>\n",
       "  </tbody>\n",
       "</table>\n",
       "</div>"
      ],
      "text/plain": [
       "     product_uid                           brand\n",
       "9       100001.0              Simpson Strong-Tie\n",
       "37      100002.0  BEHR Premium Textured DeckOver\n",
       "69      100003.0                        STERLING\n",
       "93      100004.0                     Grape Solar\n",
       "122     100005.0                           Delta\n",
       "163     100006.0                       Whirlpool\n",
       "204     100007.0               Lithonia Lighting\n",
       "236     100008.0                            Teks\n",
       "256     100009.0                   House of Fara"
      ]
     },
     "execution_count": 2,
     "metadata": {},
     "output_type": "execute_result"
    }
   ],
   "source": [
    "df_brand = df_attr[df_attr.name == \"MFG Brand Name\"][[\"product_uid\", \"value\"]].rename(columns={\"value\": \"brand\"})\n",
    "df_brand[0:9]"
   ]
  },
  {
   "cell_type": "code",
   "execution_count": 3,
   "metadata": {
    "collapsed": false
   },
   "outputs": [
    {
     "data": {
      "text/html": [
       "<div>\n",
       "<table border=\"1\" class=\"dataframe\">\n",
       "  <thead>\n",
       "    <tr style=\"text-align: right;\">\n",
       "      <th></th>\n",
       "      <th>product_uid</th>\n",
       "      <th>material</th>\n",
       "    </tr>\n",
       "  </thead>\n",
       "  <tbody>\n",
       "    <tr>\n",
       "      <th>67</th>\n",
       "      <td>100003.0</td>\n",
       "      <td>Composite</td>\n",
       "    </tr>\n",
       "    <tr>\n",
       "      <th>202</th>\n",
       "      <td>100007.0</td>\n",
       "      <td>Plastic</td>\n",
       "    </tr>\n",
       "    <tr>\n",
       "      <th>229</th>\n",
       "      <td>100008.0</td>\n",
       "      <td>Steel</td>\n",
       "    </tr>\n",
       "    <tr>\n",
       "      <th>255</th>\n",
       "      <td>100009.0</td>\n",
       "      <td>Medium Density Fiberboard (MDF)</td>\n",
       "    </tr>\n",
       "  </tbody>\n",
       "</table>\n",
       "</div>"
      ],
      "text/plain": [
       "     product_uid                         material\n",
       "67      100003.0                        Composite\n",
       "202     100007.0                          Plastic\n",
       "229     100008.0                            Steel\n",
       "255     100009.0  Medium Density Fiberboard (MDF)"
      ]
     },
     "execution_count": 3,
     "metadata": {},
     "output_type": "execute_result"
    }
   ],
   "source": [
    "collection = list(df_attr.name)\n",
    "import re\n",
    "from fuzzyfinder import fuzzyfinder\n",
    "def fuzzyfinder(user_input, collection):\n",
    "        suggestions =[]\n",
    "        pattern = '.*'.join(user_input) # Converts 'djm' to 'd.*j.*m'\n",
    "        regex = re.compile(pattern)     # Compiles a regex.\n",
    "        for item in collection:\n",
    "            match = regex.search(str(item))  # Checks if the current item matches the regex.\n",
    "            if match:\n",
    "                suggestions.append(item)\n",
    "        return suggestions\n",
    "material_lower = fuzzyfinder('material', collection)\n",
    "material_upper = fuzzyfinder('Material', collection)\n",
    "material_lower.extend(material_upper)\n",
    "\n",
    "df_materials = df_attr[df_attr['name'].isin(material_lower)][[\"product_uid\", \"value\"]].rename(columns={\"value\": \"material\"})\n",
    "df_materials=df_materials.drop_duplicates(subset=['product_uid'], keep='first')\n",
    "df_materials[1:5]"
   ]
  },
  {
   "cell_type": "code",
   "execution_count": 4,
   "metadata": {
    "collapsed": false
   },
   "outputs": [
    {
     "data": {
      "text/html": [
       "<div>\n",
       "<table border=\"1\" class=\"dataframe\">\n",
       "  <thead>\n",
       "    <tr style=\"text-align: right;\">\n",
       "      <th></th>\n",
       "      <th>product_uid</th>\n",
       "      <th>type</th>\n",
       "    </tr>\n",
       "  </thead>\n",
       "  <tbody>\n",
       "    <tr>\n",
       "      <th>66</th>\n",
       "      <td>100003.0</td>\n",
       "      <td>Installation Type</td>\n",
       "    </tr>\n",
       "    <tr>\n",
       "      <th>90</th>\n",
       "      <td>100004.0</td>\n",
       "      <td>Electrical Product Type</td>\n",
       "    </tr>\n",
       "    <tr>\n",
       "      <th>107</th>\n",
       "      <td>100005.0</td>\n",
       "      <td>Bath Faucet Type</td>\n",
       "    </tr>\n",
       "    <tr>\n",
       "      <th>132</th>\n",
       "      <td>100006.0</td>\n",
       "      <td>Appliance Type</td>\n",
       "    </tr>\n",
       "  </tbody>\n",
       "</table>\n",
       "</div>"
      ],
      "text/plain": [
       "     product_uid                     type\n",
       "66      100003.0        Installation Type\n",
       "90      100004.0  Electrical Product Type\n",
       "107     100005.0         Bath Faucet Type\n",
       "132     100006.0           Appliance Type"
      ]
     },
     "execution_count": 4,
     "metadata": {},
     "output_type": "execute_result"
    }
   ],
   "source": [
    "df_type = fuzzyfinder('Type', collection)\n",
    "df_type_= fuzzyfinder('type', collection)\n",
    "df_type.extend(df_type_)\n",
    "df_types = df_attr[df_attr['name'].isin(df_type)][[\"product_uid\", \"name\"]].rename(columns={\"name\": \"type\"})\n",
    "df_types=df_types.drop_duplicates(subset=['product_uid'], keep='first')\n",
    "df_types[1:5]"
   ]
  },
  {
   "cell_type": "markdown",
   "metadata": {},
   "source": []
  },
  {
   "cell_type": "code",
   "execution_count": 5,
   "metadata": {
    "collapsed": false
   },
   "outputs": [
    {
     "data": {
      "text/html": [
       "<div>\n",
       "<table border=\"1\" class=\"dataframe\">\n",
       "  <thead>\n",
       "    <tr style=\"text-align: right;\">\n",
       "      <th></th>\n",
       "      <th>product_uid</th>\n",
       "      <th>function_description</th>\n",
       "    </tr>\n",
       "  </thead>\n",
       "  <tbody>\n",
       "    <tr>\n",
       "      <th>238</th>\n",
       "      <td>100008.0</td>\n",
       "      <td>Primary Use : Metal to metal fastening</td>\n",
       "    </tr>\n",
       "    <tr>\n",
       "      <th>257</th>\n",
       "      <td>100009.0</td>\n",
       "      <td>Moisture Resistant : Yes</td>\n",
       "    </tr>\n",
       "    <tr>\n",
       "      <th>376</th>\n",
       "      <td>100012.0</td>\n",
       "      <td>Stain Resistant : No</td>\n",
       "    </tr>\n",
       "    <tr>\n",
       "      <th>452</th>\n",
       "      <td>100017.0</td>\n",
       "      <td>Corrosion Resistant : Yes</td>\n",
       "    </tr>\n",
       "  </tbody>\n",
       "</table>\n",
       "</div>"
      ],
      "text/plain": [
       "     product_uid                    function_description\n",
       "238     100008.0  Primary Use : Metal to metal fastening\n",
       "257     100009.0                Moisture Resistant : Yes\n",
       "376     100012.0                    Stain Resistant : No\n",
       "452     100017.0               Corrosion Resistant : Yes"
      ]
     },
     "execution_count": 5,
     "metadata": {},
     "output_type": "execute_result"
    }
   ],
   "source": [
    "def functionfinder(user_input, collection):\n",
    "        suggestions =[]\n",
    "        pattern = '.*'.join(user_input) # Converts 'djm' to 'd.*j.*m'\n",
    "        regex = re.compile(pattern)     # Compiles a regex.\n",
    "        for item in collection:\n",
    "            match = regex.search(str(item))  # Checks if the current item matches the regex.\n",
    "            if match:\n",
    "                #suggestions.append((match.start(), item))\n",
    "                suggestions.append(item)\n",
    "        return suggestions\n",
    "use = functionfinder('Use', collection)\n",
    "Resistant = functionfinder('Resistant', collection)\n",
    "use.extend(Resistant)\n",
    "\n",
    "df_function = df_attr[df_attr['name'].isin(use)] \n",
    "df_function=df_function.rename(columns={\"value\": \"function\"})\n",
    "df_function=df_function.drop_duplicates(subset=['product_uid'], keep='first')\n",
    "df_function['function_description'] = df_function['name']+\" : \"+df_function['function']\n",
    "df_function=df_function.drop(['name','function'],axis=1)\n",
    "df_function[1:5]"
   ]
  },
  {
   "cell_type": "code",
   "execution_count": 6,
   "metadata": {
    "collapsed": false
   },
   "outputs": [
    {
     "data": {
      "text/html": [
       "<div>\n",
       "<table border=\"1\" class=\"dataframe\">\n",
       "  <thead>\n",
       "    <tr style=\"text-align: right;\">\n",
       "      <th></th>\n",
       "      <th>id</th>\n",
       "      <th>product_title</th>\n",
       "      <th>product_uid</th>\n",
       "      <th>relevance</th>\n",
       "      <th>search_term</th>\n",
       "      <th>product_description</th>\n",
       "      <th>brand</th>\n",
       "      <th>material</th>\n",
       "      <th>function_description</th>\n",
       "      <th>type</th>\n",
       "    </tr>\n",
       "  </thead>\n",
       "  <tbody>\n",
       "    <tr>\n",
       "      <th>0</th>\n",
       "      <td>2</td>\n",
       "      <td>Simpson Strong-Tie 12-Gauge Angle</td>\n",
       "      <td>100001</td>\n",
       "      <td>3.00</td>\n",
       "      <td>angle bracket</td>\n",
       "      <td>Not only do angles make joints stronger, they ...</td>\n",
       "      <td>Simpson Strong-Tie</td>\n",
       "      <td>Galvanized Steel</td>\n",
       "      <td>NaN</td>\n",
       "      <td>NaN</td>\n",
       "    </tr>\n",
       "    <tr>\n",
       "      <th>1</th>\n",
       "      <td>3</td>\n",
       "      <td>Simpson Strong-Tie 12-Gauge Angle</td>\n",
       "      <td>100001</td>\n",
       "      <td>2.50</td>\n",
       "      <td>l bracket</td>\n",
       "      <td>Not only do angles make joints stronger, they ...</td>\n",
       "      <td>Simpson Strong-Tie</td>\n",
       "      <td>Galvanized Steel</td>\n",
       "      <td>NaN</td>\n",
       "      <td>NaN</td>\n",
       "    </tr>\n",
       "    <tr>\n",
       "      <th>2</th>\n",
       "      <td>9</td>\n",
       "      <td>BEHR Premium Textured DeckOver 1-gal. #SC-141 ...</td>\n",
       "      <td>100002</td>\n",
       "      <td>3.00</td>\n",
       "      <td>deck over</td>\n",
       "      <td>BEHR Premium Textured DECKOVER is an innovativ...</td>\n",
       "      <td>BEHR Premium Textured DeckOver</td>\n",
       "      <td>NaN</td>\n",
       "      <td>Concrete Use : Yes</td>\n",
       "      <td>Paint Product Type</td>\n",
       "    </tr>\n",
       "    <tr>\n",
       "      <th>3</th>\n",
       "      <td>16</td>\n",
       "      <td>Delta Vero 1-Handle Shower Only Faucet Trim Ki...</td>\n",
       "      <td>100005</td>\n",
       "      <td>2.33</td>\n",
       "      <td>rain shower head</td>\n",
       "      <td>Update your bathroom with the Delta Vero Singl...</td>\n",
       "      <td>Delta</td>\n",
       "      <td>NaN</td>\n",
       "      <td>NaN</td>\n",
       "      <td>Bath Faucet Type</td>\n",
       "    </tr>\n",
       "    <tr>\n",
       "      <th>4</th>\n",
       "      <td>17</td>\n",
       "      <td>Delta Vero 1-Handle Shower Only Faucet Trim Ki...</td>\n",
       "      <td>100005</td>\n",
       "      <td>2.67</td>\n",
       "      <td>shower only faucet</td>\n",
       "      <td>Update your bathroom with the Delta Vero Singl...</td>\n",
       "      <td>Delta</td>\n",
       "      <td>NaN</td>\n",
       "      <td>NaN</td>\n",
       "      <td>Bath Faucet Type</td>\n",
       "    </tr>\n",
       "  </tbody>\n",
       "</table>\n",
       "</div>"
      ],
      "text/plain": [
       "   id                                      product_title  product_uid  \\\n",
       "0   2                  Simpson Strong-Tie 12-Gauge Angle       100001   \n",
       "1   3                  Simpson Strong-Tie 12-Gauge Angle       100001   \n",
       "2   9  BEHR Premium Textured DeckOver 1-gal. #SC-141 ...       100002   \n",
       "3  16  Delta Vero 1-Handle Shower Only Faucet Trim Ki...       100005   \n",
       "4  17  Delta Vero 1-Handle Shower Only Faucet Trim Ki...       100005   \n",
       "\n",
       "   relevance         search_term  \\\n",
       "0       3.00       angle bracket   \n",
       "1       2.50           l bracket   \n",
       "2       3.00           deck over   \n",
       "3       2.33    rain shower head   \n",
       "4       2.67  shower only faucet   \n",
       "\n",
       "                                 product_description  \\\n",
       "0  Not only do angles make joints stronger, they ...   \n",
       "1  Not only do angles make joints stronger, they ...   \n",
       "2  BEHR Premium Textured DECKOVER is an innovativ...   \n",
       "3  Update your bathroom with the Delta Vero Singl...   \n",
       "4  Update your bathroom with the Delta Vero Singl...   \n",
       "\n",
       "                            brand          material function_description  \\\n",
       "0              Simpson Strong-Tie  Galvanized Steel                  NaN   \n",
       "1              Simpson Strong-Tie  Galvanized Steel                  NaN   \n",
       "2  BEHR Premium Textured DeckOver               NaN   Concrete Use : Yes   \n",
       "3                           Delta               NaN                  NaN   \n",
       "4                           Delta               NaN                  NaN   \n",
       "\n",
       "                 type  \n",
       "0                 NaN  \n",
       "1                 NaN  \n",
       "2  Paint Product Type  \n",
       "3    Bath Faucet Type  \n",
       "4    Bath Faucet Type  "
      ]
     },
     "execution_count": 6,
     "metadata": {},
     "output_type": "execute_result"
    }
   ],
   "source": [
    "num_train = df_train.shape[0] #74067\n",
    "df_all = pd.concat((df_train, df_test), axis=0, ignore_index=True) #train+test zongxiangdiejia 240760\n",
    "df_all = pd.merge(df_all, df_pro_desc, how='left', on='product_uid')\n",
    "df_all = pd.merge(df_all, df_brand, how='left', on='product_uid') #240760\n",
    "df_all = pd.merge(df_all, df_materials, how='left', on='product_uid')\n",
    "df_all = pd.merge(df_all, df_function, how='left', on='product_uid')\n",
    "df_all = pd.merge(df_all, df_types, how='left', on='product_uid')\n",
    "df_all[0:5]"
   ]
  },
  {
   "cell_type": "code",
   "execution_count": 7,
   "metadata": {
    "collapsed": false
   },
   "outputs": [],
   "source": [
    "strNum = {'zero':0,'one':1,'two':2,'three':3,'four':4,'five':5,'six':6,'seven':7,'eight':8,'nine':9}\n",
    "def str_stem(s): \n",
    "    if isinstance(s,str):\n",
    "        s = re.sub(r\"(\\w)\\.([A-Z])\", r\"\\1 \\2\", s) #Split words with a.A\n",
    "        s = s.lower()\n",
    "        s = s.replace(\"  \",\" \")\n",
    "        s = s.replace(\",\",\"\") #could be number / segment later\n",
    "        s = s.replace(\"$\",\" \")\n",
    "        s = s.replace(\"?\",\" \")\n",
    "        s = s.replace(\"-\",\" \")\n",
    "        s = s.replace(\"//\",\"/\")\n",
    "        s = s.replace(\"..\",\".\")\n",
    "        s = s.replace(\" / \",\" \")\n",
    "        s = s.replace(\" \\\\ \",\" \")\n",
    "        s = s.replace(\".\",\" . \")\n",
    "        s = re.sub(r\"(^\\.|/)\", r\"\", s)\n",
    "        s = re.sub(r\"(\\.|/)$\", r\"\", s)\n",
    "        \n",
    "        s = s.replace(\"  \",\" \")\n",
    "        s = s.replace(\" . \",\" \")\n",
    "        #s = (\" \").join([z for z in s.split(\" \") if z not in stop_w])\n",
    "        s = (\" \").join([str(strNum[z]) if z in strNum else z for z in s.split(\" \")])\n",
    "        s = (\" \").join([stemmer.stem(z) for z in s.split(\" \")])\n",
    "        \n",
    "        s = s.lower()\n",
    "        s = s.replace(\"toliet\",\"toilet\")\n",
    "        s = s.replace(\"airconditioner\",\"air conditioner\")\n",
    "        s = s.replace(\"vinal\",\"vinyl\")\n",
    "        s = s.replace(\"vynal\",\"vinyl\")\n",
    "        s = s.replace(\"skill\",\"skil\")\n",
    "        s = s.replace(\"snowbl\",\"snow bl\")\n",
    "        s = s.replace(\"plexigla\",\"plexi gla\")\n",
    "        s = s.replace(\"rustoleum\",\"rust-oleum\")\n",
    "        s = s.replace(\"whirpool\",\"whirlpool\")\n",
    "        s = s.replace(\"whirlpoolga\", \"whirlpool ga\")\n",
    "        s = s.replace(\"whirlpoolstainless\",\"whirlpool stainless\")\n",
    "        return s\n",
    "    else:\n",
    "        return \"null\""
   ]
  },
  {
   "cell_type": "code",
   "execution_count": 8,
   "metadata": {
    "collapsed": true
   },
   "outputs": [],
   "source": [
    "def str_common_word(str1, str2):\n",
    "\treturn sum(int(str2.find(word)>=0) for word in str1.split())"
   ]
  },
  {
   "cell_type": "code",
   "execution_count": 9,
   "metadata": {
    "collapsed": false
   },
   "outputs": [
    {
     "data": {
      "text/html": [
       "<div>\n",
       "<table border=\"1\" class=\"dataframe\">\n",
       "  <thead>\n",
       "    <tr style=\"text-align: right;\">\n",
       "      <th></th>\n",
       "      <th>id</th>\n",
       "      <th>product_title</th>\n",
       "      <th>product_uid</th>\n",
       "      <th>relevance</th>\n",
       "      <th>search_term</th>\n",
       "      <th>product_description</th>\n",
       "      <th>brand</th>\n",
       "      <th>material</th>\n",
       "      <th>function_description</th>\n",
       "      <th>type</th>\n",
       "    </tr>\n",
       "  </thead>\n",
       "  <tbody>\n",
       "    <tr>\n",
       "      <th>1</th>\n",
       "      <td>3</td>\n",
       "      <td>Simpson Strong-Tie 12-Gauge Angle</td>\n",
       "      <td>100001</td>\n",
       "      <td>2.5</td>\n",
       "      <td>l bracket</td>\n",
       "      <td>Not only do angles make joints stronger, they ...</td>\n",
       "      <td>Simpson Strong-Tie</td>\n",
       "      <td>Galvanized Steel</td>\n",
       "      <td>NaN</td>\n",
       "      <td>NaN</td>\n",
       "    </tr>\n",
       "    <tr>\n",
       "      <th>2</th>\n",
       "      <td>9</td>\n",
       "      <td>BEHR Premium Textured DeckOver 1-gal. #SC-141 ...</td>\n",
       "      <td>100002</td>\n",
       "      <td>3.0</td>\n",
       "      <td>deck over</td>\n",
       "      <td>BEHR Premium Textured DECKOVER is an innovativ...</td>\n",
       "      <td>BEHR Premium Textured DeckOver</td>\n",
       "      <td>NaN</td>\n",
       "      <td>Concrete Use : Yes</td>\n",
       "      <td>Paint Product Type</td>\n",
       "    </tr>\n",
       "  </tbody>\n",
       "</table>\n",
       "</div>"
      ],
      "text/plain": [
       "   id                                      product_title  product_uid  \\\n",
       "1   3                  Simpson Strong-Tie 12-Gauge Angle       100001   \n",
       "2   9  BEHR Premium Textured DeckOver 1-gal. #SC-141 ...       100002   \n",
       "\n",
       "   relevance search_term                                product_description  \\\n",
       "1        2.5   l bracket  Not only do angles make joints stronger, they ...   \n",
       "2        3.0   deck over  BEHR Premium Textured DECKOVER is an innovativ...   \n",
       "\n",
       "                            brand          material function_description  \\\n",
       "1              Simpson Strong-Tie  Galvanized Steel                  NaN   \n",
       "2  BEHR Premium Textured DeckOver               NaN   Concrete Use : Yes   \n",
       "\n",
       "                 type  \n",
       "1                 NaN  \n",
       "2  Paint Product Type  "
      ]
     },
     "execution_count": 9,
     "metadata": {},
     "output_type": "execute_result"
    }
   ],
   "source": [
    "df_all[1:3]"
   ]
  },
  {
   "cell_type": "code",
   "execution_count": 10,
   "metadata": {
    "collapsed": false
   },
   "outputs": [],
   "source": [
    "df_all['brand'] = df_all['brand'].map(lambda x:str_stem(x))"
   ]
  },
  {
   "cell_type": "code",
   "execution_count": 11,
   "metadata": {
    "collapsed": false
   },
   "outputs": [],
   "source": [
    "df_all['type'] = df_all['type'].map(lambda x:str_stem(x))"
   ]
  },
  {
   "cell_type": "code",
   "execution_count": 12,
   "metadata": {
    "collapsed": false
   },
   "outputs": [],
   "source": [
    "df_all['search_term'] = df_all['search_term'].map(lambda x:str_stem(x)) #map(function, sequence)\n",
    "df_all['product_title'] = df_all['product_title'].map(lambda x:str_stem(x))\n",
    "df_all['product_description'] = df_all['product_description'].map(lambda x:str_stem(x))\n",
    "#df_all['brand'] = df_all['brand'].map(lambda x:str_stem(x))\n",
    "df_all['material'] = df_all['material'].map(lambda x:str_stem(x))\n",
    "df_all['function_description'] = df_all['function_description'].map(lambda x:str_stem(x))"
   ]
  },
  {
   "cell_type": "code",
   "execution_count": 13,
   "metadata": {
    "collapsed": false
   },
   "outputs": [
    {
     "data": {
      "text/html": [
       "<div>\n",
       "<table border=\"1\" class=\"dataframe\">\n",
       "  <thead>\n",
       "    <tr style=\"text-align: right;\">\n",
       "      <th></th>\n",
       "      <th>id</th>\n",
       "      <th>product_title</th>\n",
       "      <th>product_uid</th>\n",
       "      <th>relevance</th>\n",
       "      <th>search_term</th>\n",
       "      <th>product_description</th>\n",
       "      <th>brand</th>\n",
       "      <th>material</th>\n",
       "      <th>function_description</th>\n",
       "      <th>type</th>\n",
       "      <th>product_info</th>\n",
       "      <th>len_of_query</th>\n",
       "      <th>len_of_title</th>\n",
       "      <th>len_of_description</th>\n",
       "      <th>len_of_brand</th>\n",
       "      <th>len_of_types</th>\n",
       "      <th>len_of_function_description</th>\n",
       "    </tr>\n",
       "  </thead>\n",
       "  <tbody>\n",
       "    <tr>\n",
       "      <th>0</th>\n",
       "      <td>2</td>\n",
       "      <td>simpson strong tie 12 gaug angl</td>\n",
       "      <td>100001</td>\n",
       "      <td>3.00</td>\n",
       "      <td>angl bracket</td>\n",
       "      <td>not onli do angl make joint stronger they also...</td>\n",
       "      <td>simpson strong tie</td>\n",
       "      <td>galvan steel</td>\n",
       "      <td>null</td>\n",
       "      <td>null</td>\n",
       "      <td>angl bracket\\tsimpson strong tie 12 gaug angl\\...</td>\n",
       "      <td>2</td>\n",
       "      <td>6</td>\n",
       "      <td>138</td>\n",
       "      <td>3</td>\n",
       "      <td>1</td>\n",
       "      <td>1</td>\n",
       "    </tr>\n",
       "    <tr>\n",
       "      <th>1</th>\n",
       "      <td>3</td>\n",
       "      <td>simpson strong tie 12 gaug angl</td>\n",
       "      <td>100001</td>\n",
       "      <td>2.50</td>\n",
       "      <td>l bracket</td>\n",
       "      <td>not onli do angl make joint stronger they also...</td>\n",
       "      <td>simpson strong tie</td>\n",
       "      <td>galvan steel</td>\n",
       "      <td>null</td>\n",
       "      <td>null</td>\n",
       "      <td>l bracket\\tsimpson strong tie 12 gaug angl\\tno...</td>\n",
       "      <td>2</td>\n",
       "      <td>6</td>\n",
       "      <td>138</td>\n",
       "      <td>3</td>\n",
       "      <td>1</td>\n",
       "      <td>1</td>\n",
       "    </tr>\n",
       "    <tr>\n",
       "      <th>2</th>\n",
       "      <td>9</td>\n",
       "      <td>behr premium textur deckov 1 gal #sc 141 tugbo...</td>\n",
       "      <td>100002</td>\n",
       "      <td>3.00</td>\n",
       "      <td>deck over</td>\n",
       "      <td>behr premium textur deckov is an innov solid c...</td>\n",
       "      <td>behr premium textur deckov</td>\n",
       "      <td>null</td>\n",
       "      <td>concret use : yes</td>\n",
       "      <td>paint product type</td>\n",
       "      <td>deck over\\tbehr premium textur deckov 1 gal #s...</td>\n",
       "      <td>2</td>\n",
       "      <td>13</td>\n",
       "      <td>171</td>\n",
       "      <td>4</td>\n",
       "      <td>3</td>\n",
       "      <td>4</td>\n",
       "    </tr>\n",
       "    <tr>\n",
       "      <th>3</th>\n",
       "      <td>16</td>\n",
       "      <td>delta vero 1 handl shower onli faucet trim kit...</td>\n",
       "      <td>100005</td>\n",
       "      <td>2.33</td>\n",
       "      <td>rain shower head</td>\n",
       "      <td>updat your bathroom with the delta vero singl ...</td>\n",
       "      <td>delta</td>\n",
       "      <td>null</td>\n",
       "      <td>null</td>\n",
       "      <td>bath faucet type</td>\n",
       "      <td>rain shower head\\tdelta vero 1 handl shower on...</td>\n",
       "      <td>3</td>\n",
       "      <td>14</td>\n",
       "      <td>109</td>\n",
       "      <td>1</td>\n",
       "      <td>3</td>\n",
       "      <td>1</td>\n",
       "    </tr>\n",
       "    <tr>\n",
       "      <th>4</th>\n",
       "      <td>17</td>\n",
       "      <td>delta vero 1 handl shower onli faucet trim kit...</td>\n",
       "      <td>100005</td>\n",
       "      <td>2.67</td>\n",
       "      <td>shower onli faucet</td>\n",
       "      <td>updat your bathroom with the delta vero singl ...</td>\n",
       "      <td>delta</td>\n",
       "      <td>null</td>\n",
       "      <td>null</td>\n",
       "      <td>bath faucet type</td>\n",
       "      <td>shower onli faucet\\tdelta vero 1 handl shower ...</td>\n",
       "      <td>3</td>\n",
       "      <td>14</td>\n",
       "      <td>109</td>\n",
       "      <td>1</td>\n",
       "      <td>3</td>\n",
       "      <td>1</td>\n",
       "    </tr>\n",
       "  </tbody>\n",
       "</table>\n",
       "</div>"
      ],
      "text/plain": [
       "   id                                      product_title  product_uid  \\\n",
       "0   2                    simpson strong tie 12 gaug angl       100001   \n",
       "1   3                    simpson strong tie 12 gaug angl       100001   \n",
       "2   9  behr premium textur deckov 1 gal #sc 141 tugbo...       100002   \n",
       "3  16  delta vero 1 handl shower onli faucet trim kit...       100005   \n",
       "4  17  delta vero 1 handl shower onli faucet trim kit...       100005   \n",
       "\n",
       "   relevance         search_term  \\\n",
       "0       3.00        angl bracket   \n",
       "1       2.50           l bracket   \n",
       "2       3.00           deck over   \n",
       "3       2.33    rain shower head   \n",
       "4       2.67  shower onli faucet   \n",
       "\n",
       "                                 product_description  \\\n",
       "0  not onli do angl make joint stronger they also...   \n",
       "1  not onli do angl make joint stronger they also...   \n",
       "2  behr premium textur deckov is an innov solid c...   \n",
       "3  updat your bathroom with the delta vero singl ...   \n",
       "4  updat your bathroom with the delta vero singl ...   \n",
       "\n",
       "                        brand      material function_description  \\\n",
       "0          simpson strong tie  galvan steel                 null   \n",
       "1          simpson strong tie  galvan steel                 null   \n",
       "2  behr premium textur deckov          null    concret use : yes   \n",
       "3                       delta          null                 null   \n",
       "4                       delta          null                 null   \n",
       "\n",
       "                 type                                       product_info  \\\n",
       "0                null  angl bracket\\tsimpson strong tie 12 gaug angl\\...   \n",
       "1                null  l bracket\\tsimpson strong tie 12 gaug angl\\tno...   \n",
       "2  paint product type  deck over\\tbehr premium textur deckov 1 gal #s...   \n",
       "3    bath faucet type  rain shower head\\tdelta vero 1 handl shower on...   \n",
       "4    bath faucet type  shower onli faucet\\tdelta vero 1 handl shower ...   \n",
       "\n",
       "   len_of_query  len_of_title  len_of_description  len_of_brand  len_of_types  \\\n",
       "0             2             6                 138             3             1   \n",
       "1             2             6                 138             3             1   \n",
       "2             2            13                 171             4             3   \n",
       "3             3            14                 109             1             3   \n",
       "4             3            14                 109             1             3   \n",
       "\n",
       "   len_of_function_description  \n",
       "0                            1  \n",
       "1                            1  \n",
       "2                            4  \n",
       "3                            1  \n",
       "4                            1  "
      ]
     },
     "execution_count": 13,
     "metadata": {},
     "output_type": "execute_result"
    }
   ],
   "source": [
    "df_all['product_info'] = df_all['search_term']+\"\\t\"+df_all['product_title'] +\"\\t\"+df_all['product_description']\n",
    "df_all['len_of_query'] = df_all['search_term'].map(lambda x:len(x.split())).astype(np.int64)\n",
    "df_all['len_of_title'] = df_all['product_title'].map(lambda x:len(x.split())).astype(np.int64)\n",
    "df_all['len_of_description'] = df_all['product_description'].map(lambda x:len(x.split())).astype(np.int64)\n",
    "df_all['len_of_brand'] = df_all['brand'].map(lambda x:len(x.split())).astype(np.int64)\n",
    "df_all['len_of_types'] = df_all['type'].map(lambda x:len(x.split())).astype(np.int64)\n",
    "df_all['len_of_function_description'] = df_all['function_description'].map(lambda x:len(x.split())).astype(np.int64)\n",
    "#df_all['search_term'] = df_all['product_info'].map(lambda x:seg_words(x.split('\\t')[0],x.split('\\t')[1]))\n",
    "df_all[0:5]"
   ]
  },
  {
   "cell_type": "code",
   "execution_count": 14,
   "metadata": {
    "collapsed": true
   },
   "outputs": [],
   "source": [
    "df_all['query_in_title'] = df_all['product_info'].map(lambda x:str_common_word(x.split('\\t')[0],x.split('\\t')[1]))\n",
    "df_all['query_in_description'] = df_all['product_info'].map(lambda x:str_common_word(x.split('\\t')[0],x.split('\\t')[2]))\n",
    "df_all['query_last_word_in_title'] = df_all['product_info'].map(lambda x:str_common_word(x.split('\\t')[0].split(\" \")[-1],x.split('\\t')[1]))\n",
    "df_all['query_last_word_in_description'] = df_all['product_info'].map(lambda x:str_common_word(x.split('\\t')[0].split(\" \")[-1],x.split('\\t')[2]))\n",
    "\n",
    "df_all['word_in_title'] = df_all['product_info'].map(lambda x:str_common_word(x.split('\\t')[0],x.split('\\t')[1]))\n",
    "df_all['word_in_description'] = df_all['product_info'].map(lambda x:str_common_word(x.split('\\t')[0],x.split('\\t')[2]))"
   ]
  },
  {
   "cell_type": "code",
   "execution_count": 15,
   "metadata": {
    "collapsed": false
   },
   "outputs": [
    {
     "data": {
      "text/html": [
       "<div>\n",
       "<table border=\"1\" class=\"dataframe\">\n",
       "  <thead>\n",
       "    <tr style=\"text-align: right;\">\n",
       "      <th></th>\n",
       "      <th>id</th>\n",
       "      <th>product_title</th>\n",
       "      <th>product_uid</th>\n",
       "      <th>relevance</th>\n",
       "      <th>search_term</th>\n",
       "      <th>product_description</th>\n",
       "      <th>brand</th>\n",
       "      <th>material</th>\n",
       "      <th>function_description</th>\n",
       "      <th>type</th>\n",
       "      <th>...</th>\n",
       "      <th>len_of_function_description</th>\n",
       "      <th>query_in_title</th>\n",
       "      <th>query_in_description</th>\n",
       "      <th>query_last_word_in_title</th>\n",
       "      <th>query_last_word_in_description</th>\n",
       "      <th>word_in_title</th>\n",
       "      <th>word_in_description</th>\n",
       "      <th>ratio_title</th>\n",
       "      <th>ratio_description</th>\n",
       "      <th>attr</th>\n",
       "    </tr>\n",
       "  </thead>\n",
       "  <tbody>\n",
       "    <tr>\n",
       "      <th>0</th>\n",
       "      <td>2</td>\n",
       "      <td>simpson strong tie 12 gaug angl</td>\n",
       "      <td>100001</td>\n",
       "      <td>3.00</td>\n",
       "      <td>angl bracket</td>\n",
       "      <td>not onli do angl make joint stronger they also...</td>\n",
       "      <td>simpson strong tie</td>\n",
       "      <td>galvan steel</td>\n",
       "      <td>null</td>\n",
       "      <td>null</td>\n",
       "      <td>...</td>\n",
       "      <td>1</td>\n",
       "      <td>1</td>\n",
       "      <td>1</td>\n",
       "      <td>0</td>\n",
       "      <td>0</td>\n",
       "      <td>1</td>\n",
       "      <td>1</td>\n",
       "      <td>0.500000</td>\n",
       "      <td>0.500000</td>\n",
       "      <td>angl bracket\\tsimpson strong tie\\tgalvan steel...</td>\n",
       "    </tr>\n",
       "    <tr>\n",
       "      <th>1</th>\n",
       "      <td>3</td>\n",
       "      <td>simpson strong tie 12 gaug angl</td>\n",
       "      <td>100001</td>\n",
       "      <td>2.50</td>\n",
       "      <td>l bracket</td>\n",
       "      <td>not onli do angl make joint stronger they also...</td>\n",
       "      <td>simpson strong tie</td>\n",
       "      <td>galvan steel</td>\n",
       "      <td>null</td>\n",
       "      <td>null</td>\n",
       "      <td>...</td>\n",
       "      <td>1</td>\n",
       "      <td>1</td>\n",
       "      <td>1</td>\n",
       "      <td>0</td>\n",
       "      <td>0</td>\n",
       "      <td>1</td>\n",
       "      <td>1</td>\n",
       "      <td>0.500000</td>\n",
       "      <td>0.500000</td>\n",
       "      <td>l bracket\\tsimpson strong tie\\tgalvan steel\\tn...</td>\n",
       "    </tr>\n",
       "    <tr>\n",
       "      <th>2</th>\n",
       "      <td>9</td>\n",
       "      <td>behr premium textur deckov 1 gal #sc 141 tugbo...</td>\n",
       "      <td>100002</td>\n",
       "      <td>3.00</td>\n",
       "      <td>deck over</td>\n",
       "      <td>behr premium textur deckov is an innov solid c...</td>\n",
       "      <td>behr premium textur deckov</td>\n",
       "      <td>null</td>\n",
       "      <td>concret use : yes</td>\n",
       "      <td>paint product type</td>\n",
       "      <td>...</td>\n",
       "      <td>4</td>\n",
       "      <td>1</td>\n",
       "      <td>1</td>\n",
       "      <td>0</td>\n",
       "      <td>0</td>\n",
       "      <td>1</td>\n",
       "      <td>1</td>\n",
       "      <td>0.500000</td>\n",
       "      <td>0.500000</td>\n",
       "      <td>deck over\\tbehr premium textur deckov\\tnull\\tc...</td>\n",
       "    </tr>\n",
       "    <tr>\n",
       "      <th>3</th>\n",
       "      <td>16</td>\n",
       "      <td>delta vero 1 handl shower onli faucet trim kit...</td>\n",
       "      <td>100005</td>\n",
       "      <td>2.33</td>\n",
       "      <td>rain shower head</td>\n",
       "      <td>updat your bathroom with the delta vero singl ...</td>\n",
       "      <td>delta</td>\n",
       "      <td>null</td>\n",
       "      <td>null</td>\n",
       "      <td>bath faucet type</td>\n",
       "      <td>...</td>\n",
       "      <td>1</td>\n",
       "      <td>1</td>\n",
       "      <td>1</td>\n",
       "      <td>0</td>\n",
       "      <td>0</td>\n",
       "      <td>1</td>\n",
       "      <td>1</td>\n",
       "      <td>0.333333</td>\n",
       "      <td>0.333333</td>\n",
       "      <td>rain shower head\\tdelta\\tnull\\tnull\\tbath fauc...</td>\n",
       "    </tr>\n",
       "    <tr>\n",
       "      <th>4</th>\n",
       "      <td>17</td>\n",
       "      <td>delta vero 1 handl shower onli faucet trim kit...</td>\n",
       "      <td>100005</td>\n",
       "      <td>2.67</td>\n",
       "      <td>shower onli faucet</td>\n",
       "      <td>updat your bathroom with the delta vero singl ...</td>\n",
       "      <td>delta</td>\n",
       "      <td>null</td>\n",
       "      <td>null</td>\n",
       "      <td>bath faucet type</td>\n",
       "      <td>...</td>\n",
       "      <td>1</td>\n",
       "      <td>3</td>\n",
       "      <td>3</td>\n",
       "      <td>1</td>\n",
       "      <td>1</td>\n",
       "      <td>3</td>\n",
       "      <td>3</td>\n",
       "      <td>1.000000</td>\n",
       "      <td>1.000000</td>\n",
       "      <td>shower onli faucet\\tdelta\\tnull\\tnull\\tbath fa...</td>\n",
       "    </tr>\n",
       "  </tbody>\n",
       "</table>\n",
       "<p>5 rows × 26 columns</p>\n",
       "</div>"
      ],
      "text/plain": [
       "   id                                      product_title  product_uid  \\\n",
       "0   2                    simpson strong tie 12 gaug angl       100001   \n",
       "1   3                    simpson strong tie 12 gaug angl       100001   \n",
       "2   9  behr premium textur deckov 1 gal #sc 141 tugbo...       100002   \n",
       "3  16  delta vero 1 handl shower onli faucet trim kit...       100005   \n",
       "4  17  delta vero 1 handl shower onli faucet trim kit...       100005   \n",
       "\n",
       "   relevance         search_term  \\\n",
       "0       3.00        angl bracket   \n",
       "1       2.50           l bracket   \n",
       "2       3.00           deck over   \n",
       "3       2.33    rain shower head   \n",
       "4       2.67  shower onli faucet   \n",
       "\n",
       "                                 product_description  \\\n",
       "0  not onli do angl make joint stronger they also...   \n",
       "1  not onli do angl make joint stronger they also...   \n",
       "2  behr premium textur deckov is an innov solid c...   \n",
       "3  updat your bathroom with the delta vero singl ...   \n",
       "4  updat your bathroom with the delta vero singl ...   \n",
       "\n",
       "                        brand      material function_description  \\\n",
       "0          simpson strong tie  galvan steel                 null   \n",
       "1          simpson strong tie  galvan steel                 null   \n",
       "2  behr premium textur deckov          null    concret use : yes   \n",
       "3                       delta          null                 null   \n",
       "4                       delta          null                 null   \n",
       "\n",
       "                 type                        ...                          \\\n",
       "0                null                        ...                           \n",
       "1                null                        ...                           \n",
       "2  paint product type                        ...                           \n",
       "3    bath faucet type                        ...                           \n",
       "4    bath faucet type                        ...                           \n",
       "\n",
       "  len_of_function_description  query_in_title  query_in_description  \\\n",
       "0                           1               1                     1   \n",
       "1                           1               1                     1   \n",
       "2                           4               1                     1   \n",
       "3                           1               1                     1   \n",
       "4                           1               3                     3   \n",
       "\n",
       "   query_last_word_in_title  query_last_word_in_description  word_in_title  \\\n",
       "0                         0                               0              1   \n",
       "1                         0                               0              1   \n",
       "2                         0                               0              1   \n",
       "3                         0                               0              1   \n",
       "4                         1                               1              3   \n",
       "\n",
       "   word_in_description  ratio_title  ratio_description  \\\n",
       "0                    1     0.500000           0.500000   \n",
       "1                    1     0.500000           0.500000   \n",
       "2                    1     0.500000           0.500000   \n",
       "3                    1     0.333333           0.333333   \n",
       "4                    3     1.000000           1.000000   \n",
       "\n",
       "                                                attr  \n",
       "0  angl bracket\\tsimpson strong tie\\tgalvan steel...  \n",
       "1  l bracket\\tsimpson strong tie\\tgalvan steel\\tn...  \n",
       "2  deck over\\tbehr premium textur deckov\\tnull\\tc...  \n",
       "3  rain shower head\\tdelta\\tnull\\tnull\\tbath fauc...  \n",
       "4  shower onli faucet\\tdelta\\tnull\\tnull\\tbath fa...  \n",
       "\n",
       "[5 rows x 26 columns]"
      ]
     },
     "execution_count": 15,
     "metadata": {},
     "output_type": "execute_result"
    }
   ],
   "source": [
    "df_all['ratio_title'] = df_all['word_in_title']/df_all['len_of_query']\n",
    "df_all['ratio_description'] = df_all['word_in_description']/df_all['len_of_query']\n",
    "#df_all['attr_brand'] = df_all['search_term']+\"\\t\"+df_all['brand']\n",
    "#df_all['attr_material'] = df_all['search_term']+\"\\t\"+df_all['material']\n",
    "#df_all['attr_function'] = df_all['search_term']+\"\\t\"+df_all['function_description']\n",
    "df_all['attr'] = df_all['search_term']+\"\\t\"+df_all['brand']+\"\\t\"+df_all['material']+\"\\t\"+df_all['function_description']+\"\\t\"+df_all['type']\n",
    "df_all[0:5]"
   ]
  },
  {
   "cell_type": "code",
   "execution_count": 16,
   "metadata": {
    "collapsed": false
   },
   "outputs": [
    {
     "data": {
      "text/html": [
       "<div>\n",
       "<table border=\"1\" class=\"dataframe\">\n",
       "  <thead>\n",
       "    <tr style=\"text-align: right;\">\n",
       "      <th></th>\n",
       "      <th>id</th>\n",
       "      <th>product_title</th>\n",
       "      <th>product_uid</th>\n",
       "      <th>relevance</th>\n",
       "      <th>search_term</th>\n",
       "      <th>product_description</th>\n",
       "      <th>brand</th>\n",
       "      <th>material</th>\n",
       "      <th>function_description</th>\n",
       "      <th>type</th>\n",
       "      <th>...</th>\n",
       "      <th>attr</th>\n",
       "      <th>word_in_brand</th>\n",
       "      <th>word_in_material</th>\n",
       "      <th>word_in_function_description</th>\n",
       "      <th>ratio_brand</th>\n",
       "      <th>len_of_material</th>\n",
       "      <th>ratio_material</th>\n",
       "      <th>ratio_function</th>\n",
       "      <th>word_in_type</th>\n",
       "      <th>ratio_type</th>\n",
       "    </tr>\n",
       "  </thead>\n",
       "  <tbody>\n",
       "    <tr>\n",
       "      <th>0</th>\n",
       "      <td>2</td>\n",
       "      <td>simpson strong tie 12 gaug angl</td>\n",
       "      <td>100001</td>\n",
       "      <td>3.0</td>\n",
       "      <td>angl bracket</td>\n",
       "      <td>not onli do angl make joint stronger they also...</td>\n",
       "      <td>simpson strong tie</td>\n",
       "      <td>galvan steel</td>\n",
       "      <td>null</td>\n",
       "      <td>null</td>\n",
       "      <td>...</td>\n",
       "      <td>angl bracket\\tsimpson strong tie\\tgalvan steel...</td>\n",
       "      <td>0</td>\n",
       "      <td>0</td>\n",
       "      <td>0</td>\n",
       "      <td>0.0</td>\n",
       "      <td>2</td>\n",
       "      <td>0.0</td>\n",
       "      <td>0.0</td>\n",
       "      <td>0</td>\n",
       "      <td>0.0</td>\n",
       "    </tr>\n",
       "    <tr>\n",
       "      <th>1</th>\n",
       "      <td>3</td>\n",
       "      <td>simpson strong tie 12 gaug angl</td>\n",
       "      <td>100001</td>\n",
       "      <td>2.5</td>\n",
       "      <td>l bracket</td>\n",
       "      <td>not onli do angl make joint stronger they also...</td>\n",
       "      <td>simpson strong tie</td>\n",
       "      <td>galvan steel</td>\n",
       "      <td>null</td>\n",
       "      <td>null</td>\n",
       "      <td>...</td>\n",
       "      <td>l bracket\\tsimpson strong tie\\tgalvan steel\\tn...</td>\n",
       "      <td>0</td>\n",
       "      <td>1</td>\n",
       "      <td>1</td>\n",
       "      <td>0.0</td>\n",
       "      <td>2</td>\n",
       "      <td>0.5</td>\n",
       "      <td>1.0</td>\n",
       "      <td>1</td>\n",
       "      <td>1.0</td>\n",
       "    </tr>\n",
       "  </tbody>\n",
       "</table>\n",
       "<p>2 rows × 35 columns</p>\n",
       "</div>"
      ],
      "text/plain": [
       "   id                    product_title  product_uid  relevance   search_term  \\\n",
       "0   2  simpson strong tie 12 gaug angl       100001        3.0  angl bracket   \n",
       "1   3  simpson strong tie 12 gaug angl       100001        2.5     l bracket   \n",
       "\n",
       "                                 product_description               brand  \\\n",
       "0  not onli do angl make joint stronger they also...  simpson strong tie   \n",
       "1  not onli do angl make joint stronger they also...  simpson strong tie   \n",
       "\n",
       "       material function_description  type     ...      \\\n",
       "0  galvan steel                 null  null     ...       \n",
       "1  galvan steel                 null  null     ...       \n",
       "\n",
       "                                                attr  word_in_brand  \\\n",
       "0  angl bracket\\tsimpson strong tie\\tgalvan steel...              0   \n",
       "1  l bracket\\tsimpson strong tie\\tgalvan steel\\tn...              0   \n",
       "\n",
       "   word_in_material  word_in_function_description  ratio_brand  \\\n",
       "0                 0                             0          0.0   \n",
       "1                 1                             1          0.0   \n",
       "\n",
       "   len_of_material  ratio_material  ratio_function  word_in_type  ratio_type  \n",
       "0                2             0.0             0.0             0         0.0  \n",
       "1                2             0.5             1.0             1         1.0  \n",
       "\n",
       "[2 rows x 35 columns]"
      ]
     },
     "execution_count": 16,
     "metadata": {},
     "output_type": "execute_result"
    }
   ],
   "source": [
    "df_all['word_in_brand'] = df_all['attr'].map(lambda x:str_common_word(x.split('\\t')[0],x.split('\\t')[1]))#search_term, brand\n",
    "df_all['word_in_material'] = df_all['attr'].map(lambda x:str_common_word(x.split('\\t')[0],x.split('\\t')[2]))\n",
    "df_all['word_in_function_description'] = df_all['attr'].map(lambda x:str_common_word(x.split('\\t')[0],x.split('\\t')[3]))\n",
    "df_all['ratio_brand'] = df_all['word_in_brand']/df_all['len_of_brand']\n",
    "df_all['len_of_material'] = df_all['material'].map(lambda x:len(x.split())).astype(np.int64)\n",
    "df_all['ratio_material'] = df_all['word_in_material']/df_all['len_of_material']\n",
    "df_all['ratio_function'] = df_all['word_in_function_description']/df_all['len_of_function_description']\n",
    "df_all['word_in_type'] = df_all['attr'].map(lambda x:str_common_word(x.split('\\t')[0],x.split('\\t')[4]))\n",
    "df_all['ratio_type'] = df_all['word_in_type']/df_all['len_of_types']\n",
    "df_brand = pd.unique(df_all.brand.ravel()) #brand变为array后挑出唯一的brand name\n",
    "#df_materials = pd.unique(df_all.material.ravel())\n",
    "#df_function = pd.unique(df_all.function_description.ravel())\n",
    "#df_materials = pd.unique(df_all.material.ravel())\n",
    "df_all[0:2]"
   ]
  },
  {
   "cell_type": "code",
   "execution_count": null,
   "metadata": {
    "collapsed": false
   },
   "outputs": [],
   "source": []
  },
  {
   "cell_type": "code",
   "execution_count": 17,
   "metadata": {
    "collapsed": false
   },
   "outputs": [
    {
     "data": {
      "text/html": [
       "<div>\n",
       "<table border=\"1\" class=\"dataframe\">\n",
       "  <thead>\n",
       "    <tr style=\"text-align: right;\">\n",
       "      <th></th>\n",
       "      <th>id</th>\n",
       "      <th>product_uid</th>\n",
       "      <th>relevance</th>\n",
       "      <th>brand</th>\n",
       "      <th>material</th>\n",
       "      <th>function_description</th>\n",
       "      <th>type</th>\n",
       "      <th>len_of_query</th>\n",
       "      <th>len_of_title</th>\n",
       "      <th>len_of_description</th>\n",
       "      <th>...</th>\n",
       "      <th>attr</th>\n",
       "      <th>word_in_brand</th>\n",
       "      <th>word_in_material</th>\n",
       "      <th>word_in_function_description</th>\n",
       "      <th>ratio_brand</th>\n",
       "      <th>len_of_material</th>\n",
       "      <th>ratio_material</th>\n",
       "      <th>ratio_function</th>\n",
       "      <th>word_in_type</th>\n",
       "      <th>ratio_type</th>\n",
       "    </tr>\n",
       "  </thead>\n",
       "  <tbody>\n",
       "    <tr>\n",
       "      <th>1</th>\n",
       "      <td>3</td>\n",
       "      <td>100001</td>\n",
       "      <td>2.5</td>\n",
       "      <td>simpson strong tie</td>\n",
       "      <td>galvan steel</td>\n",
       "      <td>null</td>\n",
       "      <td>null</td>\n",
       "      <td>2</td>\n",
       "      <td>6</td>\n",
       "      <td>138</td>\n",
       "      <td>...</td>\n",
       "      <td>l bracket\\tsimpson strong tie\\tgalvan steel\\tn...</td>\n",
       "      <td>0</td>\n",
       "      <td>1</td>\n",
       "      <td>1</td>\n",
       "      <td>0.0</td>\n",
       "      <td>2</td>\n",
       "      <td>0.5</td>\n",
       "      <td>1.0</td>\n",
       "      <td>1</td>\n",
       "      <td>1.0</td>\n",
       "    </tr>\n",
       "  </tbody>\n",
       "</table>\n",
       "<p>1 rows × 31 columns</p>\n",
       "</div>"
      ],
      "text/plain": [
       "   id  product_uid  relevance               brand      material  \\\n",
       "1   3       100001        2.5  simpson strong tie  galvan steel   \n",
       "\n",
       "  function_description  type  len_of_query  len_of_title  len_of_description  \\\n",
       "1                 null  null             2             6                 138   \n",
       "\n",
       "      ...                                                   attr  \\\n",
       "1     ...      l bracket\\tsimpson strong tie\\tgalvan steel\\tn...   \n",
       "\n",
       "   word_in_brand  word_in_material  word_in_function_description  ratio_brand  \\\n",
       "1              0                 1                             1          0.0   \n",
       "\n",
       "   len_of_material  ratio_material  ratio_function  word_in_type  ratio_type  \n",
       "1                2             0.5             1.0             1         1.0  \n",
       "\n",
       "[1 rows x 31 columns]"
      ]
     },
     "execution_count": 17,
     "metadata": {},
     "output_type": "execute_result"
    }
   ],
   "source": [
    "df_all = df_all.drop(['search_term','product_title','product_description','product_info'],axis=1)\n",
    "df_all[1:2]"
   ]
  },
  {
   "cell_type": "code",
   "execution_count": 18,
   "metadata": {
    "collapsed": false
   },
   "outputs": [
    {
     "data": {
      "text/html": [
       "<div>\n",
       "<table border=\"1\" class=\"dataframe\">\n",
       "  <thead>\n",
       "    <tr style=\"text-align: right;\">\n",
       "      <th></th>\n",
       "      <th>id</th>\n",
       "      <th>product_uid</th>\n",
       "      <th>relevance</th>\n",
       "      <th>len_of_query</th>\n",
       "      <th>len_of_title</th>\n",
       "      <th>len_of_description</th>\n",
       "      <th>len_of_brand</th>\n",
       "      <th>len_of_types</th>\n",
       "      <th>len_of_function_description</th>\n",
       "      <th>query_in_title</th>\n",
       "      <th>...</th>\n",
       "      <th>ratio_description</th>\n",
       "      <th>word_in_brand</th>\n",
       "      <th>word_in_material</th>\n",
       "      <th>word_in_function_description</th>\n",
       "      <th>ratio_brand</th>\n",
       "      <th>len_of_material</th>\n",
       "      <th>ratio_material</th>\n",
       "      <th>ratio_function</th>\n",
       "      <th>word_in_type</th>\n",
       "      <th>ratio_type</th>\n",
       "    </tr>\n",
       "  </thead>\n",
       "  <tbody>\n",
       "    <tr>\n",
       "      <th>1</th>\n",
       "      <td>3</td>\n",
       "      <td>100001</td>\n",
       "      <td>2.5</td>\n",
       "      <td>2</td>\n",
       "      <td>6</td>\n",
       "      <td>138</td>\n",
       "      <td>3</td>\n",
       "      <td>1</td>\n",
       "      <td>1</td>\n",
       "      <td>1</td>\n",
       "      <td>...</td>\n",
       "      <td>0.5</td>\n",
       "      <td>0</td>\n",
       "      <td>1</td>\n",
       "      <td>1</td>\n",
       "      <td>0.0</td>\n",
       "      <td>2</td>\n",
       "      <td>0.5</td>\n",
       "      <td>1.0</td>\n",
       "      <td>1</td>\n",
       "      <td>1.0</td>\n",
       "    </tr>\n",
       "  </tbody>\n",
       "</table>\n",
       "<p>1 rows × 26 columns</p>\n",
       "</div>"
      ],
      "text/plain": [
       "   id  product_uid  relevance  len_of_query  len_of_title  len_of_description  \\\n",
       "1   3       100001        2.5             2             6                 138   \n",
       "\n",
       "   len_of_brand  len_of_types  len_of_function_description  query_in_title  \\\n",
       "1             3             1                            1               1   \n",
       "\n",
       "      ...      ratio_description  word_in_brand  word_in_material  \\\n",
       "1     ...                    0.5              0                 1   \n",
       "\n",
       "   word_in_function_description  ratio_brand  len_of_material  ratio_material  \\\n",
       "1                             1          0.0                2             0.5   \n",
       "\n",
       "   ratio_function  word_in_type  ratio_type  \n",
       "1             1.0             1         1.0  \n",
       "\n",
       "[1 rows x 26 columns]"
      ]
     },
     "execution_count": 18,
     "metadata": {},
     "output_type": "execute_result"
    }
   ],
   "source": [
    "df_all = df_all.drop(['brand','material','type','function_description'],axis=1)\n",
    "df_all = df_all.drop(['attr'],axis=1)\n",
    "\n",
    "df_all[1:2]"
   ]
  },
  {
   "cell_type": "code",
   "execution_count": 19,
   "metadata": {
    "collapsed": true
   },
   "outputs": [],
   "source": [
    "df_train = df_all.iloc[:num_train]\n",
    "df_test = df_all.iloc[num_train:]\n",
    "id_test = df_test['id']\n",
    "\n",
    "y_train = df_train['relevance'].values\n",
    "\n",
    "#X_train = df_train[:]\n",
    "X_train = df_train.drop(['id','relevance'],axis=1).values\n",
    "\n",
    "#X_test = df_test[:]\n",
    "X_test = df_test.drop(['id','relevance'],axis=1).values\n",
    "#X_train = df_train[:]\n",
    "#X_test = df_test[:]"
   ]
  },
  {
   "cell_type": "code",
   "execution_count": 20,
   "metadata": {
    "collapsed": false
   },
   "outputs": [],
   "source": [
    "X_train=X_train[:,1:]\n",
    "X_test=X_test[:,1:]"
   ]
  },
  {
   "cell_type": "code",
   "execution_count": 21,
   "metadata": {
    "collapsed": false
   },
   "outputs": [
    {
     "data": {
      "text/plain": [
       "False"
      ]
     },
     "execution_count": 21,
     "metadata": {},
     "output_type": "execute_result"
    }
   ],
   "source": [
    "np.any(np.isnan(X_train)) #true\n"
   ]
  },
  {
   "cell_type": "code",
   "execution_count": 22,
   "metadata": {
    "collapsed": false
   },
   "outputs": [
    {
     "data": {
      "text/plain": [
       "True"
      ]
     },
     "execution_count": 22,
     "metadata": {},
     "output_type": "execute_result"
    }
   ],
   "source": [
    "np.all(np.isfinite(X_train))#flase"
   ]
  },
  {
   "cell_type": "code",
   "execution_count": 23,
   "metadata": {
    "collapsed": false
   },
   "outputs": [
    {
     "data": {
      "text/plain": [
       "166693"
      ]
     },
     "execution_count": 23,
     "metadata": {},
     "output_type": "execute_result"
    }
   ],
   "source": [
    "from sklearn.preprocessing import Imputer\n",
    "from sklearn.ensemble import RandomForestRegressor, BaggingRegressor\n",
    "from nltk.stem.snowball import SnowballStemmer\n",
    "rf = RandomForestRegressor(n_estimators=15, max_depth=6, random_state=0)\n",
    "clf = BaggingRegressor(rf, n_estimators=45, max_samples=0.1, random_state=25)\n",
    "#imp = Imputer(missing_values='NaN', strategy='most_frequent')\n",
    "#imp.fit_transform(X_train)\n",
    "#imp.fit_transform(y_train)\n",
    "clf.fit(X_train, y_train)\n",
    "y_predrf = clf.predict(X_test)\n",
    "len(y_predrf)\n"
   ]
  },
  {
   "cell_type": "code",
   "execution_count": 116,
   "metadata": {
    "collapsed": false
   },
   "outputs": [
    {
     "data": {
      "text/plain": [
       "166693"
      ]
     },
     "execution_count": 116,
     "metadata": {},
     "output_type": "execute_result"
    }
   ],
   "source": [
    "from sklearn.neural_network import MLPRegressor\n",
    "nn = MLPRegressor(hidden_layer_sizes=(100, 3), alpha=1e-5, random_state=1, batch_size=200) #好多变量可以试\n",
    "nn.fit(X_train, y_train)\n",
    "y_prednn = nn.predict(X_test)\n",
    "len(y_prednn)"
   ]
  },
  {
   "cell_type": "code",
   "execution_count": 125,
   "metadata": {
    "collapsed": true
   },
   "outputs": [],
   "source": [
    "y_pred = 0.7*y_predrf +0.3*y_prednn\n",
    "df_sol = pd.read_csv('solution.csv', encoding=\"ISO-8859-1\")\n",
    "df_sol['pred'] = y_pred\n",
    "df_fliter = df_sol[df_sol.Usage == \"Public\"]"
   ]
  },
  {
   "cell_type": "code",
   "execution_count": 126,
   "metadata": {
    "collapsed": false
   },
   "outputs": [
    {
     "data": {
      "text/plain": [
       "0.48323758314690268"
      ]
     },
     "execution_count": 126,
     "metadata": {},
     "output_type": "execute_result"
    }
   ],
   "source": [
    "from sklearn.metrics import mean_squared_error, make_scorer\n",
    "mse = mean_squared_error(df_fliter.relevance, df_fliter.pred, sample_weight=None, multioutput='uniform_average')\n",
    "np.sqrt(mse)"
   ]
  },
  {
   "cell_type": "code",
   "execution_count": 27,
   "metadata": {
    "collapsed": false
   },
   "outputs": [
    {
     "data": {
      "text/plain": [
       "0.62465512922302668"
      ]
     },
     "execution_count": 27,
     "metadata": {},
     "output_type": "execute_result"
    }
   ],
   "source": [
    "from sklearn.metrics import mean_absolute_error\n",
    "MAE = mean_absolute_error(df_fliter.relevance, df_fliter.pred, sample_weight=None, multioutput='uniform_average')\n",
    "np.sqrt(MAE)"
   ]
  },
  {
   "cell_type": "code",
   "execution_count": 28,
   "metadata": {
    "collapsed": false
   },
   "outputs": [
    {
     "data": {
      "text/plain": [
       "-0.23889591370012209"
      ]
     },
     "execution_count": 28,
     "metadata": {},
     "output_type": "execute_result"
    }
   ],
   "source": [
    "from sklearn.model_selection import cross_val_score\n",
    "score_rf = cross_val_score(clf,X_train,y_train,cv=5,scoring='mean_squared_error')\n",
    "score_nn = cross_val_score(nn,X_train,y_train,cv=5,scoring='mean_squared_error')\n",
    "score = 0.5*(score_rf + score_nn)\n",
    "score.mean()"
   ]
  },
  {
   "cell_type": "code",
   "execution_count": null,
   "metadata": {
    "collapsed": true
   },
   "outputs": [],
   "source": []
  }
 ],
 "metadata": {
  "anaconda-cloud": {},
  "kernelspec": {
   "display_name": "Python [conda root]",
   "language": "python",
   "name": "conda-root-py"
  },
  "language_info": {
   "codemirror_mode": {
    "name": "ipython",
    "version": 3
   },
   "file_extension": ".py",
   "mimetype": "text/x-python",
   "name": "python",
   "nbconvert_exporter": "python",
   "pygments_lexer": "ipython3",
   "version": "3.5.2"
  }
 },
 "nbformat": 4,
 "nbformat_minor": 1
}
