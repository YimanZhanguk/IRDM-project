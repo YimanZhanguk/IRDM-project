{
 "cells": [
  {
   "cell_type": "code",
   "execution_count": 1,
   "metadata": {
    "collapsed": false
   },
   "outputs": [],
   "source": [
    "import numpy as np\n",
    "import pandas as pd\n",
    "from sklearn.ensemble import RandomForestRegressor, BaggingRegressor\n",
    "from nltk.stem.snowball import SnowballStemmer\n",
    "\n",
    "stemmer = SnowballStemmer('english')\n",
    "\n",
    "df_train = pd.read_csv('train.csv', encoding=\"ISO-8859-1\")\n",
    "df_test = pd.read_csv('test.csv', encoding=\"ISO-8859-1\")\n",
    "# df_attr = pd.read_csv('../input/attributes.csv')\n",
    "df_pro_desc = pd.read_csv('product_descriptions.csv')\n",
    "num_train = df_train.shape[0]"
   ]
  },
  {
   "cell_type": "code",
   "execution_count": 2,
   "metadata": {
    "collapsed": true
   },
   "outputs": [],
   "source": [
    "def str_stemmer(s):\n",
    "\treturn \" \".join([stemmer.stem(word) for word in s.lower().split()])\n",
    "def str_common_word(str1, str2):\n",
    "\treturn sum(int(str2.find(word)>=0) for word in str1.split())\n"
   ]
  },
  {
   "cell_type": "code",
   "execution_count": 3,
   "metadata": {
    "collapsed": true
   },
   "outputs": [],
   "source": [
    "df_all = pd.concat((df_train, df_test), axis=0, ignore_index=True)\n",
    "\n",
    "df_all = pd.merge(df_all, df_pro_desc, how='left', on='product_uid')\n"
   ]
  },
  {
   "cell_type": "code",
   "execution_count": 4,
   "metadata": {
    "collapsed": false
   },
   "outputs": [
    {
     "data": {
      "text/plain": [
       "240760"
      ]
     },
     "execution_count": 4,
     "metadata": {},
     "output_type": "execute_result"
    }
   ],
   "source": [
    "len(df_all)"
   ]
  },
  {
   "cell_type": "code",
   "execution_count": 5,
   "metadata": {
    "collapsed": false
   },
   "outputs": [
    {
     "data": {
      "text/html": [
       "<div>\n",
       "<table border=\"1\" class=\"dataframe\">\n",
       "  <thead>\n",
       "    <tr style=\"text-align: right;\">\n",
       "      <th></th>\n",
       "      <th>id</th>\n",
       "      <th>product_title</th>\n",
       "      <th>product_uid</th>\n",
       "      <th>relevance</th>\n",
       "      <th>search_term</th>\n",
       "      <th>product_description</th>\n",
       "    </tr>\n",
       "  </thead>\n",
       "  <tbody>\n",
       "    <tr>\n",
       "      <th>1</th>\n",
       "      <td>3</td>\n",
       "      <td>Simpson Strong-Tie 12-Gauge Angle</td>\n",
       "      <td>100001</td>\n",
       "      <td>2.50</td>\n",
       "      <td>l bracket</td>\n",
       "      <td>Not only do angles make joints stronger, they ...</td>\n",
       "    </tr>\n",
       "    <tr>\n",
       "      <th>2</th>\n",
       "      <td>9</td>\n",
       "      <td>BEHR Premium Textured DeckOver 1-gal. #SC-141 ...</td>\n",
       "      <td>100002</td>\n",
       "      <td>3.00</td>\n",
       "      <td>deck over</td>\n",
       "      <td>BEHR Premium Textured DECKOVER is an innovativ...</td>\n",
       "    </tr>\n",
       "    <tr>\n",
       "      <th>3</th>\n",
       "      <td>16</td>\n",
       "      <td>Delta Vero 1-Handle Shower Only Faucet Trim Ki...</td>\n",
       "      <td>100005</td>\n",
       "      <td>2.33</td>\n",
       "      <td>rain shower head</td>\n",
       "      <td>Update your bathroom with the Delta Vero Singl...</td>\n",
       "    </tr>\n",
       "    <tr>\n",
       "      <th>4</th>\n",
       "      <td>17</td>\n",
       "      <td>Delta Vero 1-Handle Shower Only Faucet Trim Ki...</td>\n",
       "      <td>100005</td>\n",
       "      <td>2.67</td>\n",
       "      <td>shower only faucet</td>\n",
       "      <td>Update your bathroom with the Delta Vero Singl...</td>\n",
       "    </tr>\n",
       "    <tr>\n",
       "      <th>5</th>\n",
       "      <td>18</td>\n",
       "      <td>Whirlpool 1.9 cu. ft. Over the Range Convectio...</td>\n",
       "      <td>100006</td>\n",
       "      <td>3.00</td>\n",
       "      <td>convection otr</td>\n",
       "      <td>Achieving delicious results is almost effortle...</td>\n",
       "    </tr>\n",
       "    <tr>\n",
       "      <th>6</th>\n",
       "      <td>20</td>\n",
       "      <td>Whirlpool 1.9 cu. ft. Over the Range Convectio...</td>\n",
       "      <td>100006</td>\n",
       "      <td>2.67</td>\n",
       "      <td>microwave over stove</td>\n",
       "      <td>Achieving delicious results is almost effortle...</td>\n",
       "    </tr>\n",
       "    <tr>\n",
       "      <th>7</th>\n",
       "      <td>21</td>\n",
       "      <td>Whirlpool 1.9 cu. ft. Over the Range Convectio...</td>\n",
       "      <td>100006</td>\n",
       "      <td>3.00</td>\n",
       "      <td>microwaves</td>\n",
       "      <td>Achieving delicious results is almost effortle...</td>\n",
       "    </tr>\n",
       "    <tr>\n",
       "      <th>8</th>\n",
       "      <td>23</td>\n",
       "      <td>Lithonia Lighting Quantum 2-Light Black LED Em...</td>\n",
       "      <td>100007</td>\n",
       "      <td>2.67</td>\n",
       "      <td>emergency light</td>\n",
       "      <td>The Quantum Adjustable 2-Light LED Black Emerg...</td>\n",
       "    </tr>\n",
       "    <tr>\n",
       "      <th>9</th>\n",
       "      <td>27</td>\n",
       "      <td>House of Fara 3/4 in. x 3 in. x 8 ft. MDF Flut...</td>\n",
       "      <td>100009</td>\n",
       "      <td>3.00</td>\n",
       "      <td>mdf 3/4</td>\n",
       "      <td>Get the House of Fara 3/4 in. x 3 in. x 8 ft. ...</td>\n",
       "    </tr>\n",
       "  </tbody>\n",
       "</table>\n",
       "</div>"
      ],
      "text/plain": [
       "   id                                      product_title  product_uid  \\\n",
       "1   3                  Simpson Strong-Tie 12-Gauge Angle       100001   \n",
       "2   9  BEHR Premium Textured DeckOver 1-gal. #SC-141 ...       100002   \n",
       "3  16  Delta Vero 1-Handle Shower Only Faucet Trim Ki...       100005   \n",
       "4  17  Delta Vero 1-Handle Shower Only Faucet Trim Ki...       100005   \n",
       "5  18  Whirlpool 1.9 cu. ft. Over the Range Convectio...       100006   \n",
       "6  20  Whirlpool 1.9 cu. ft. Over the Range Convectio...       100006   \n",
       "7  21  Whirlpool 1.9 cu. ft. Over the Range Convectio...       100006   \n",
       "8  23  Lithonia Lighting Quantum 2-Light Black LED Em...       100007   \n",
       "9  27  House of Fara 3/4 in. x 3 in. x 8 ft. MDF Flut...       100009   \n",
       "\n",
       "   relevance           search_term  \\\n",
       "1       2.50             l bracket   \n",
       "2       3.00             deck over   \n",
       "3       2.33      rain shower head   \n",
       "4       2.67    shower only faucet   \n",
       "5       3.00        convection otr   \n",
       "6       2.67  microwave over stove   \n",
       "7       3.00            microwaves   \n",
       "8       2.67       emergency light   \n",
       "9       3.00               mdf 3/4   \n",
       "\n",
       "                                 product_description  \n",
       "1  Not only do angles make joints stronger, they ...  \n",
       "2  BEHR Premium Textured DECKOVER is an innovativ...  \n",
       "3  Update your bathroom with the Delta Vero Singl...  \n",
       "4  Update your bathroom with the Delta Vero Singl...  \n",
       "5  Achieving delicious results is almost effortle...  \n",
       "6  Achieving delicious results is almost effortle...  \n",
       "7  Achieving delicious results is almost effortle...  \n",
       "8  The Quantum Adjustable 2-Light LED Black Emerg...  \n",
       "9  Get the House of Fara 3/4 in. x 3 in. x 8 ft. ...  "
      ]
     },
     "execution_count": 5,
     "metadata": {},
     "output_type": "execute_result"
    }
   ],
   "source": [
    "df_all[1:10]"
   ]
  },
  {
   "cell_type": "code",
   "execution_count": 6,
   "metadata": {
    "collapsed": false
   },
   "outputs": [],
   "source": [
    "#pre-processing\n",
    "df_all['search_term'] = df_all['search_term'].map(lambda x:str_stemmer(x))\n",
    "df_all['product_title'] = df_all['product_title'].map(lambda x:str_stemmer(x))\n",
    "df_all['product_description'] = df_all['product_description'].map(lambda x:str_stemmer(x))"
   ]
  },
  {
   "cell_type": "code",
   "execution_count": 7,
   "metadata": {
    "collapsed": false
   },
   "outputs": [
    {
     "data": {
      "text/html": [
       "<div>\n",
       "<table border=\"1\" class=\"dataframe\">\n",
       "  <thead>\n",
       "    <tr style=\"text-align: right;\">\n",
       "      <th></th>\n",
       "      <th>id</th>\n",
       "      <th>product_title</th>\n",
       "      <th>product_uid</th>\n",
       "      <th>relevance</th>\n",
       "      <th>search_term</th>\n",
       "      <th>product_description</th>\n",
       "      <th>len_of_query</th>\n",
       "      <th>product_info</th>\n",
       "      <th>word_in_title</th>\n",
       "      <th>word_in_description</th>\n",
       "    </tr>\n",
       "  </thead>\n",
       "  <tbody>\n",
       "    <tr>\n",
       "      <th>1</th>\n",
       "      <td>3</td>\n",
       "      <td>simpson strong-ti 12-gaug angl</td>\n",
       "      <td>100001</td>\n",
       "      <td>2.50</td>\n",
       "      <td>l bracket</td>\n",
       "      <td>not onli do angl make joint stronger, they als...</td>\n",
       "      <td>2</td>\n",
       "      <td>l bracket\\tsimpson strong-ti 12-gaug angl\\tnot...</td>\n",
       "      <td>1</td>\n",
       "      <td>1</td>\n",
       "    </tr>\n",
       "    <tr>\n",
       "      <th>2</th>\n",
       "      <td>9</td>\n",
       "      <td>behr premium textur deckov 1-gal. #sc-141 tugb...</td>\n",
       "      <td>100002</td>\n",
       "      <td>3.00</td>\n",
       "      <td>deck over</td>\n",
       "      <td>behr premium textur deckov is an innov solid c...</td>\n",
       "      <td>2</td>\n",
       "      <td>deck over\\tbehr premium textur deckov 1-gal. #...</td>\n",
       "      <td>1</td>\n",
       "      <td>1</td>\n",
       "    </tr>\n",
       "    <tr>\n",
       "      <th>3</th>\n",
       "      <td>16</td>\n",
       "      <td>delta vero 1-handl shower onli faucet trim kit...</td>\n",
       "      <td>100005</td>\n",
       "      <td>2.33</td>\n",
       "      <td>rain shower head</td>\n",
       "      <td>updat your bathroom with the delta vero single...</td>\n",
       "      <td>3</td>\n",
       "      <td>rain shower head\\tdelta vero 1-handl shower on...</td>\n",
       "      <td>1</td>\n",
       "      <td>1</td>\n",
       "    </tr>\n",
       "    <tr>\n",
       "      <th>4</th>\n",
       "      <td>17</td>\n",
       "      <td>delta vero 1-handl shower onli faucet trim kit...</td>\n",
       "      <td>100005</td>\n",
       "      <td>2.67</td>\n",
       "      <td>shower onli faucet</td>\n",
       "      <td>updat your bathroom with the delta vero single...</td>\n",
       "      <td>3</td>\n",
       "      <td>shower onli faucet\\tdelta vero 1-handl shower ...</td>\n",
       "      <td>3</td>\n",
       "      <td>2</td>\n",
       "    </tr>\n",
       "    <tr>\n",
       "      <th>5</th>\n",
       "      <td>18</td>\n",
       "      <td>whirlpool 1.9 cu. ft. over the rang convect mi...</td>\n",
       "      <td>100006</td>\n",
       "      <td>3.00</td>\n",
       "      <td>convect otr</td>\n",
       "      <td>achiev delici result is almost effortless with...</td>\n",
       "      <td>2</td>\n",
       "      <td>convect otr\\twhirlpool 1.9 cu. ft. over the ra...</td>\n",
       "      <td>1</td>\n",
       "      <td>2</td>\n",
       "    </tr>\n",
       "    <tr>\n",
       "      <th>6</th>\n",
       "      <td>20</td>\n",
       "      <td>whirlpool 1.9 cu. ft. over the rang convect mi...</td>\n",
       "      <td>100006</td>\n",
       "      <td>2.67</td>\n",
       "      <td>microwav over stove</td>\n",
       "      <td>achiev delici result is almost effortless with...</td>\n",
       "      <td>3</td>\n",
       "      <td>microwav over stove\\twhirlpool 1.9 cu. ft. ove...</td>\n",
       "      <td>2</td>\n",
       "      <td>2</td>\n",
       "    </tr>\n",
       "    <tr>\n",
       "      <th>7</th>\n",
       "      <td>21</td>\n",
       "      <td>whirlpool 1.9 cu. ft. over the rang convect mi...</td>\n",
       "      <td>100006</td>\n",
       "      <td>3.00</td>\n",
       "      <td>microwav</td>\n",
       "      <td>achiev delici result is almost effortless with...</td>\n",
       "      <td>1</td>\n",
       "      <td>microwav\\twhirlpool 1.9 cu. ft. over the rang ...</td>\n",
       "      <td>1</td>\n",
       "      <td>1</td>\n",
       "    </tr>\n",
       "    <tr>\n",
       "      <th>8</th>\n",
       "      <td>23</td>\n",
       "      <td>lithonia light quantum 2-light black led emerg...</td>\n",
       "      <td>100007</td>\n",
       "      <td>2.67</td>\n",
       "      <td>emerg light</td>\n",
       "      <td>the quantum adjust 2-light led black emerg lig...</td>\n",
       "      <td>2</td>\n",
       "      <td>emerg light\\tlithonia light quantum 2-light bl...</td>\n",
       "      <td>2</td>\n",
       "      <td>2</td>\n",
       "    </tr>\n",
       "    <tr>\n",
       "      <th>9</th>\n",
       "      <td>27</td>\n",
       "      <td>hous of fara 3/4 in. x 3 in. x 8 ft. mdf flute...</td>\n",
       "      <td>100009</td>\n",
       "      <td>3.00</td>\n",
       "      <td>mdf 3/4</td>\n",
       "      <td>get the hous of fara 3/4 in. x 3 in. x 8 ft. m...</td>\n",
       "      <td>2</td>\n",
       "      <td>mdf 3/4\\thous of fara 3/4 in. x 3 in. x 8 ft. ...</td>\n",
       "      <td>2</td>\n",
       "      <td>2</td>\n",
       "    </tr>\n",
       "  </tbody>\n",
       "</table>\n",
       "</div>"
      ],
      "text/plain": [
       "   id                                      product_title  product_uid  \\\n",
       "1   3                     simpson strong-ti 12-gaug angl       100001   \n",
       "2   9  behr premium textur deckov 1-gal. #sc-141 tugb...       100002   \n",
       "3  16  delta vero 1-handl shower onli faucet trim kit...       100005   \n",
       "4  17  delta vero 1-handl shower onli faucet trim kit...       100005   \n",
       "5  18  whirlpool 1.9 cu. ft. over the rang convect mi...       100006   \n",
       "6  20  whirlpool 1.9 cu. ft. over the rang convect mi...       100006   \n",
       "7  21  whirlpool 1.9 cu. ft. over the rang convect mi...       100006   \n",
       "8  23  lithonia light quantum 2-light black led emerg...       100007   \n",
       "9  27  hous of fara 3/4 in. x 3 in. x 8 ft. mdf flute...       100009   \n",
       "\n",
       "   relevance          search_term  \\\n",
       "1       2.50            l bracket   \n",
       "2       3.00            deck over   \n",
       "3       2.33     rain shower head   \n",
       "4       2.67   shower onli faucet   \n",
       "5       3.00          convect otr   \n",
       "6       2.67  microwav over stove   \n",
       "7       3.00             microwav   \n",
       "8       2.67          emerg light   \n",
       "9       3.00              mdf 3/4   \n",
       "\n",
       "                                 product_description  len_of_query  \\\n",
       "1  not onli do angl make joint stronger, they als...             2   \n",
       "2  behr premium textur deckov is an innov solid c...             2   \n",
       "3  updat your bathroom with the delta vero single...             3   \n",
       "4  updat your bathroom with the delta vero single...             3   \n",
       "5  achiev delici result is almost effortless with...             2   \n",
       "6  achiev delici result is almost effortless with...             3   \n",
       "7  achiev delici result is almost effortless with...             1   \n",
       "8  the quantum adjust 2-light led black emerg lig...             2   \n",
       "9  get the hous of fara 3/4 in. x 3 in. x 8 ft. m...             2   \n",
       "\n",
       "                                        product_info  word_in_title  \\\n",
       "1  l bracket\\tsimpson strong-ti 12-gaug angl\\tnot...              1   \n",
       "2  deck over\\tbehr premium textur deckov 1-gal. #...              1   \n",
       "3  rain shower head\\tdelta vero 1-handl shower on...              1   \n",
       "4  shower onli faucet\\tdelta vero 1-handl shower ...              3   \n",
       "5  convect otr\\twhirlpool 1.9 cu. ft. over the ra...              1   \n",
       "6  microwav over stove\\twhirlpool 1.9 cu. ft. ove...              2   \n",
       "7  microwav\\twhirlpool 1.9 cu. ft. over the rang ...              1   \n",
       "8  emerg light\\tlithonia light quantum 2-light bl...              2   \n",
       "9  mdf 3/4\\thous of fara 3/4 in. x 3 in. x 8 ft. ...              2   \n",
       "\n",
       "   word_in_description  \n",
       "1                    1  \n",
       "2                    1  \n",
       "3                    1  \n",
       "4                    2  \n",
       "5                    2  \n",
       "6                    2  \n",
       "7                    1  \n",
       "8                    2  \n",
       "9                    2  "
      ]
     },
     "execution_count": 7,
     "metadata": {},
     "output_type": "execute_result"
    }
   ],
   "source": [
    "df_all['len_of_query'] = df_all['search_term'].map(lambda x:len(x.split())).astype(np.int64)\n",
    "\n",
    "df_all['product_info'] = df_all['search_term']+\"\\t\"+df_all['product_title']+\"\\t\"+df_all['product_description']\n",
    "\n",
    "df_all['word_in_title'] = df_all['product_info'].map(lambda x:str_common_word(x.split('\\t')[0],x.split('\\t')[1]))\n",
    "df_all['word_in_description'] = df_all['product_info'].map(lambda x:str_common_word(x.split('\\t')[0],x.split('\\t')[2]))\n",
    "df_all[1:10]"
   ]
  },
  {
   "cell_type": "code",
   "execution_count": null,
   "metadata": {
    "collapsed": true
   },
   "outputs": [],
   "source": []
  },
  {
   "cell_type": "code",
   "execution_count": 8,
   "metadata": {
    "collapsed": false
   },
   "outputs": [
    {
     "data": {
      "text/html": [
       "<div>\n",
       "<table border=\"1\" class=\"dataframe\">\n",
       "  <thead>\n",
       "    <tr style=\"text-align: right;\">\n",
       "      <th></th>\n",
       "      <th>id</th>\n",
       "      <th>product_uid</th>\n",
       "      <th>relevance</th>\n",
       "      <th>len_of_query</th>\n",
       "      <th>word_in_title</th>\n",
       "      <th>word_in_description</th>\n",
       "    </tr>\n",
       "  </thead>\n",
       "  <tbody>\n",
       "    <tr>\n",
       "      <th>1</th>\n",
       "      <td>3</td>\n",
       "      <td>100001</td>\n",
       "      <td>2.50</td>\n",
       "      <td>2</td>\n",
       "      <td>1</td>\n",
       "      <td>1</td>\n",
       "    </tr>\n",
       "    <tr>\n",
       "      <th>2</th>\n",
       "      <td>9</td>\n",
       "      <td>100002</td>\n",
       "      <td>3.00</td>\n",
       "      <td>2</td>\n",
       "      <td>1</td>\n",
       "      <td>1</td>\n",
       "    </tr>\n",
       "    <tr>\n",
       "      <th>3</th>\n",
       "      <td>16</td>\n",
       "      <td>100005</td>\n",
       "      <td>2.33</td>\n",
       "      <td>3</td>\n",
       "      <td>1</td>\n",
       "      <td>1</td>\n",
       "    </tr>\n",
       "    <tr>\n",
       "      <th>4</th>\n",
       "      <td>17</td>\n",
       "      <td>100005</td>\n",
       "      <td>2.67</td>\n",
       "      <td>3</td>\n",
       "      <td>3</td>\n",
       "      <td>2</td>\n",
       "    </tr>\n",
       "    <tr>\n",
       "      <th>5</th>\n",
       "      <td>18</td>\n",
       "      <td>100006</td>\n",
       "      <td>3.00</td>\n",
       "      <td>2</td>\n",
       "      <td>1</td>\n",
       "      <td>2</td>\n",
       "    </tr>\n",
       "    <tr>\n",
       "      <th>6</th>\n",
       "      <td>20</td>\n",
       "      <td>100006</td>\n",
       "      <td>2.67</td>\n",
       "      <td>3</td>\n",
       "      <td>2</td>\n",
       "      <td>2</td>\n",
       "    </tr>\n",
       "    <tr>\n",
       "      <th>7</th>\n",
       "      <td>21</td>\n",
       "      <td>100006</td>\n",
       "      <td>3.00</td>\n",
       "      <td>1</td>\n",
       "      <td>1</td>\n",
       "      <td>1</td>\n",
       "    </tr>\n",
       "    <tr>\n",
       "      <th>8</th>\n",
       "      <td>23</td>\n",
       "      <td>100007</td>\n",
       "      <td>2.67</td>\n",
       "      <td>2</td>\n",
       "      <td>2</td>\n",
       "      <td>2</td>\n",
       "    </tr>\n",
       "    <tr>\n",
       "      <th>9</th>\n",
       "      <td>27</td>\n",
       "      <td>100009</td>\n",
       "      <td>3.00</td>\n",
       "      <td>2</td>\n",
       "      <td>2</td>\n",
       "      <td>2</td>\n",
       "    </tr>\n",
       "  </tbody>\n",
       "</table>\n",
       "</div>"
      ],
      "text/plain": [
       "   id  product_uid  relevance  len_of_query  word_in_title  \\\n",
       "1   3       100001       2.50             2              1   \n",
       "2   9       100002       3.00             2              1   \n",
       "3  16       100005       2.33             3              1   \n",
       "4  17       100005       2.67             3              3   \n",
       "5  18       100006       3.00             2              1   \n",
       "6  20       100006       2.67             3              2   \n",
       "7  21       100006       3.00             1              1   \n",
       "8  23       100007       2.67             2              2   \n",
       "9  27       100009       3.00             2              2   \n",
       "\n",
       "   word_in_description  \n",
       "1                    1  \n",
       "2                    1  \n",
       "3                    1  \n",
       "4                    2  \n",
       "5                    2  \n",
       "6                    2  \n",
       "7                    1  \n",
       "8                    2  \n",
       "9                    2  "
      ]
     },
     "execution_count": 8,
     "metadata": {},
     "output_type": "execute_result"
    }
   ],
   "source": [
    "df_all = df_all.drop(['search_term','product_title','product_description','product_info'],axis=1)\n",
    "df_all[1:10]"
   ]
  },
  {
   "cell_type": "code",
   "execution_count": 9,
   "metadata": {
    "collapsed": true
   },
   "outputs": [],
   "source": [
    "df_train = df_all.iloc[:num_train]\n",
    "#fetch rows from 0 to num_train\n",
    "df_test = df_all.iloc[num_train:]\n",
    "id_test = df_test['id']\n",
    "\n",
    "y_train = df_train['relevance'].values\n",
    "X_train = df_train.drop(['id','relevance'],axis=1).values\n",
    "X_test = df_test.drop(['id','relevance'],axis=1).values"
   ]
  },
  {
   "cell_type": "code",
   "execution_count": 10,
   "metadata": {
    "collapsed": true
   },
   "outputs": [],
   "source": [
    "rf = RandomForestRegressor(n_estimators=15, max_depth=6, random_state=0)\n",
    "clf = BaggingRegressor(rf, n_estimators=45, max_samples=0.1, random_state=25)\n",
    "clf.fit(X_train, y_train)\n",
    "y_pred = clf.predict(X_test)"
   ]
  },
  {
   "cell_type": "code",
   "execution_count": null,
   "metadata": {
    "collapsed": true
   },
   "outputs": [],
   "source": []
  },
  {
   "cell_type": "code",
   "execution_count": 11,
   "metadata": {
    "collapsed": true
   },
   "outputs": [],
   "source": [
    "pd.DataFrame({\"id\": id_test, \"relevance\": y_pred}).to_csv('submission.csv',index=False)"
   ]
  },
  {
   "cell_type": "code",
   "execution_count": 12,
   "metadata": {
    "collapsed": false
   },
   "outputs": [
    {
     "name": "stdout",
     "output_type": "stream",
     "text": [
      "[ 2.07215887  2.22417453  2.22417453 ...,  2.12862001  2.42032514\n",
      "  2.31581996]\n"
     ]
    }
   ],
   "source": [
    "print(y_pred)"
   ]
  },
  {
   "cell_type": "code",
   "execution_count": 13,
   "metadata": {
    "collapsed": false
   },
   "outputs": [
    {
     "data": {
      "text/plain": [
       "166693"
      ]
     },
     "execution_count": 13,
     "metadata": {},
     "output_type": "execute_result"
    }
   ],
   "source": [
    "len(y_pred)"
   ]
  },
  {
   "cell_type": "code",
   "execution_count": 14,
   "metadata": {
    "collapsed": true
   },
   "outputs": [],
   "source": [
    "df_sol = pd.read_csv('solution.csv', encoding=\"ISO-8859-1\")\n",
    "df_sol['pred'] = y_pred\n",
    "df_fliter = df_sol[df_sol.Usage == \"Public\"]"
   ]
  },
  {
   "cell_type": "code",
   "execution_count": 15,
   "metadata": {
    "collapsed": false
   },
   "outputs": [
    {
     "data": {
      "text/plain": [
       "0.4872118744835135"
      ]
     },
     "execution_count": 15,
     "metadata": {},
     "output_type": "execute_result"
    }
   ],
   "source": [
    "from sklearn.metrics import mean_squared_error, make_scorer\n",
    "mse = mean_squared_error(df_fliter.relevance, df_fliter.pred, sample_weight=None, multioutput='uniform_average')\n",
    "np.sqrt(mse)"
   ]
  }
 ],
 "metadata": {
  "anaconda-cloud": {},
  "kernelspec": {
   "display_name": "Python [conda root]",
   "language": "python",
   "name": "conda-root-py"
  },
  "language_info": {
   "codemirror_mode": {
    "name": "ipython",
    "version": 3
   },
   "file_extension": ".py",
   "mimetype": "text/x-python",
   "name": "python",
   "nbconvert_exporter": "python",
   "pygments_lexer": "ipython3",
   "version": "3.5.2"
  }
 },
 "nbformat": 4,
 "nbformat_minor": 1
}
