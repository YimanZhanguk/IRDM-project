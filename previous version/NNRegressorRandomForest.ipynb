{
 "cells": [
  {
   "cell_type": "code",
   "execution_count": 1,
   "metadata": {
    "collapsed": true
   },
   "outputs": [],
   "source": [
    "import numpy as np\n",
    "import pandas as pd\n",
    "from sklearn.ensemble import RandomForestRegressor, BaggingRegressor\n",
    "from nltk.stem.snowball import SnowballStemmer\n",
    "\n",
    "\n",
    "stemmer = SnowballStemmer('english')\n",
    "\n",
    "df_train = pd.read_csv('D:/datamining/train.csv', encoding=\"ISO-8859-1\")\n",
    "df_test = pd.read_csv('D:/datamining/test.csv', encoding=\"ISO-8859-1\")\n",
    "# df_attr = pd.read_csv('../input/attributes.csv')\n",
    "df_pro_desc = pd.read_csv('D:/datamining/product_descriptions.csv')\n",
    "num_train = df_train.shape[0]"
   ]
  },
  {
   "cell_type": "code",
   "execution_count": 2,
   "metadata": {
    "collapsed": true
   },
   "outputs": [],
   "source": [
    "def str_stemmer(s):\n",
    "\treturn \" \".join([stemmer.stem(word) for word in s.lower().split()])\n",
    "\n",
    "def str_common_word(str1, str2):\n",
    "\treturn sum(int(str2.find(word)>=0) for word in str1.split())"
   ]
  },
  {
   "cell_type": "code",
   "execution_count": 3,
   "metadata": {
    "collapsed": false
   },
   "outputs": [],
   "source": [
    "df_all = pd.concat((df_train, df_test), axis=0, ignore_index=True)\n",
    "\n",
    "df_all = pd.merge(df_all, df_pro_desc, how='left', on='product_uid')\n"
   ]
  },
  {
   "cell_type": "raw",
   "metadata": {},
   "source": []
  },
  {
   "cell_type": "code",
   "execution_count": 4,
   "metadata": {
    "collapsed": false
   },
   "outputs": [
    {
     "name": "stdout",
     "output_type": "stream",
     "text": [
      "            id                                      product_title  \\\n",
      "0            2                  Simpson Strong-Tie 12-Gauge Angle   \n",
      "1            3                  Simpson Strong-Tie 12-Gauge Angle   \n",
      "2            9  BEHR Premium Textured DeckOver 1-gal. #SC-141 ...   \n",
      "3           16  Delta Vero 1-Handle Shower Only Faucet Trim Ki...   \n",
      "4           17  Delta Vero 1-Handle Shower Only Faucet Trim Ki...   \n",
      "5           18  Whirlpool 1.9 cu. ft. Over the Range Convectio...   \n",
      "6           20  Whirlpool 1.9 cu. ft. Over the Range Convectio...   \n",
      "7           21  Whirlpool 1.9 cu. ft. Over the Range Convectio...   \n",
      "8           23  Lithonia Lighting Quantum 2-Light Black LED Em...   \n",
      "9           27  House of Fara 3/4 in. x 3 in. x 8 ft. MDF Flut...   \n",
      "10          34       Valley View Industries Metal Stakes (4-Pack)   \n",
      "11          35  Toro Personal Pace Recycler 22 in. Variable Sp...   \n",
      "12          37  Toro Personal Pace Recycler 22 in. Variable Sp...   \n",
      "13          38  Toro Personal Pace Recycler 22 in. Variable Sp...   \n",
      "14          48  Hampton Bay Caramel Simple Weave Bamboo Rollup...   \n",
      "15          51  InSinkErator SinkTop Switch Single Outlet for ...   \n",
      "16          65  Sunjoy Calais 8 ft. x 5 ft. x 8 ft. Steel Tile...   \n",
      "17          69  MD Building Products 36 in. x 36 in. Cloverlea...   \n",
      "18          75  MD Building Products 36 in. x 36 in. Cloverlea...   \n",
      "19          81  MD Building Products 36 in. x 36 in. Cloverlea...   \n",
      "20          85  MD Building Products 36 in. x 36 in. Cloverlea...   \n",
      "21          88  House of Fara 8 Linear ft. MDF Overlapping Wai...   \n",
      "22          90  House of Fara 8 Linear ft. MDF Overlapping Wai...   \n",
      "23          92  House of Fara 8 Linear ft. MDF Overlapping Wai...   \n",
      "24         101  House of Fara 8 Linear ft. MDF Overlapping Wai...   \n",
      "25         105  House of Fara 8 Linear ft. MDF Overlapping Wai...   \n",
      "26         106  House of Fara 8 Linear ft. MDF Overlapping Wai...   \n",
      "27         113  1804 Dual Spray Half Pattern 4 in Pop-Up Spray...   \n",
      "28         114  1804 Dual Spray Half Pattern 4 in Pop-Up Spray...   \n",
      "29         117  Samsung 4.2 cu. ft. Front Load Washer with Ste...   \n",
      "...        ...                                                ...   \n",
      "240730  240731                      6-Panel Composite Bifold Door   \n",
      "240731  240732     Eaton CSR 200-Amp Double Pole Main Breaker Kit   \n",
      "240732  240733  Crown Bolt 3/16 in. Zinc Plated Steel Axle Hat...   \n",
      "240733  240734              Dickies 2-Pocket Utility Knife Sheath   \n",
      "240734  240735  Patio Living Concepts San Juan 60 in. Outdoor ...   \n",
      "240735  240736             Speakman Emergency Eyewash Safety Sign   \n",
      "240736  240737      Plantronics Cable for M12 and CS50/CS55 Phone   \n",
      "240737  240738  Glomar Vanguard 9-Light Textured Black Chandel...   \n",
      "240738  240739        Kwikset Milan Satin Nickel Half-Dummy Lever   \n",
      "240739  240740  Advanced Drainage Systems 1/2 in. x 100 ft. IP...   \n",
      "240740  240741  Magnavox 50 in. Class LED 1080p 120 BMR Slim HDTV   \n",
      "240741  240742  Ekena Millwork 7 in. x 3/4 in. x 11 in. Hillsb...   \n",
      "240742  240743  Minwax 1 gal. Semi-Gloss Polycrylic Protective...   \n",
      "240743  240744  Southern Living Plant Collection 3 Gal. Pink S...   \n",
      "240744  240745  GE 5.0 cu. ft. Gas Range with Self-Cleaning Ov...   \n",
      "240745  240746  Southwire 150 ft. 12-3 CU W/G Submersible Pump...   \n",
      "240746  240747  Generac Protector Series 15,000-Watt 120/240-V...   \n",
      "240747  240748  KOHLER Clearflo Brass Toe Tap Bath Drain in Vi...   \n",
      "240748  240749  Casablanca 4-Light Maiden Bronze Ceiling Fan F...   \n",
      "240749  240750  Glidden Premium 5-gal. #HDGR19 Fresh Peonies S...   \n",
      "240750  240751  Everbilt 1/8 in. x 50 ft. Reflective Black Par...   \n",
      "240751  240752  Crown Bolt 5/16 in. (1/4 in.-20) x 1-1/2 in. A...   \n",
      "240752  240753  Universal Tubs 4.5 ft. Right Drain Wheel Chair...   \n",
      "240753  240754  Everbilt #12 x 1-1/2 in. Phillips Brass Flat-H...   \n",
      "240754  240755  Coastal Shower Doors Legend Series 24 in. x 64...   \n",
      "240755  240756  stufurhome Norma 24 in. W x 16 in. D x 34 in. ...   \n",
      "240756  240757  Home Decorators Collection 49 in. D Alessandro...   \n",
      "240757  240758  Simpson Strong-Tie HB 3-1/2 x 14 in. Top Flang...   \n",
      "240758  240759  1/4 in. -20 tpi x 1-1/2 in. Stainless Steel Bu...   \n",
      "240759  240760                      Bosch 4 in. Bi-Metal Hole Saw   \n",
      "\n",
      "        product_uid  relevance                         search_term  \\\n",
      "0            100001       3.00                       angle bracket   \n",
      "1            100001       2.50                           l bracket   \n",
      "2            100002       3.00                           deck over   \n",
      "3            100005       2.33                    rain shower head   \n",
      "4            100005       2.67                  shower only faucet   \n",
      "5            100006       3.00                      convection otr   \n",
      "6            100006       2.67                microwave over stove   \n",
      "7            100006       3.00                          microwaves   \n",
      "8            100007       2.67                     emergency light   \n",
      "9            100009       3.00                             mdf 3/4   \n",
      "10           100010       2.67                        steele stake   \n",
      "11           100011       3.00      briggs and stratton lawn mower   \n",
      "12           100011       3.00                            gas mowe   \n",
      "13           100011       2.00                         honda mower   \n",
      "14           100012       2.67  hampton bay chestnut pull up shade   \n",
      "15           100013       2.67                            disposer   \n",
      "16           100016       3.00                        grill gazebo   \n",
      "17           100017       1.00                         door guards   \n",
      "18           100017       1.67              metal plate cover gcfi   \n",
      "19           100017       2.33                      radiator grate   \n",
      "20           100017       2.33                     windows screens   \n",
      "21           100019       1.33            1x1 rail decorative wood   \n",
      "22           100019       2.67              4*8 beadboard paneling   \n",
      "23           100019       2.33                    4x8wood paneling   \n",
      "24           100019       1.33                             MDF 4x8   \n",
      "25           100019       2.33                 wainscot chair rail   \n",
      "26           100019       2.33             wainscot plank paneling   \n",
      "27           100021       2.00                      lawn sprkinler   \n",
      "28           100021       2.33                  rainbird sprinkler   \n",
      "29           100022       2.67                PLATFORM FOR WASHERS   \n",
      "...             ...        ...                                 ...   \n",
      "240730       224399        NaN            bifold oak 6 panel doors   \n",
      "240731       224400        NaN         200 amp breaker double pole   \n",
      "240732       224401        NaN                   axle locking nuts   \n",
      "240733       224402        NaN                              sheath   \n",
      "240734       224403        NaN                outdoor patio shades   \n",
      "240735       224404        NaN                        safety signs   \n",
      "240736       224405        NaN                         phone cable   \n",
      "240737       224406        NaN                            vanguard   \n",
      "240738       224407        NaN                        dummy handle   \n",
      "240739       224408        NaN           Advanced drainage systems   \n",
      "240740       224409        NaN                             led tvs   \n",
      "240741       224410        NaN                           l molding   \n",
      "240742       224411        NaN                   minwax polycrylic   \n",
      "240743       224412        NaN                           camellias   \n",
      "240744       224413        NaN                    black gas ranges   \n",
      "240745       224414        NaN                    submersible wire   \n",
      "240746       224415        NaN       32kw generac protector series   \n",
      "240747       224416        NaN                       bathroom taps   \n",
      "240748       224417        NaN          ceiling fan light fixtures   \n",
      "240749       224418        NaN                             Peonies   \n",
      "240750       224419        NaN                            paracord   \n",
      "240751       224420        NaN                2 inch  1/4-20 bolts   \n",
      "240752       224421        NaN                         bath chairs   \n",
      "240753       224422        NaN                           1/2 brass   \n",
      "240754       224423        NaN                  pivot shower doors   \n",
      "240755       224424        NaN            24 whtie storage cabinet   \n",
      "240756       224425        NaN                   adirondeck cusion   \n",
      "240757       224426        NaN                                  hb   \n",
      "240758       224427        NaN                         hex sockets   \n",
      "240759       224428        NaN                     4 inch hole saw   \n",
      "\n",
      "                                      product_description  \n",
      "0       Not only do angles make joints stronger, they ...  \n",
      "1       Not only do angles make joints stronger, they ...  \n",
      "2       BEHR Premium Textured DECKOVER is an innovativ...  \n",
      "3       Update your bathroom with the Delta Vero Singl...  \n",
      "4       Update your bathroom with the Delta Vero Singl...  \n",
      "5       Achieving delicious results is almost effortle...  \n",
      "6       Achieving delicious results is almost effortle...  \n",
      "7       Achieving delicious results is almost effortle...  \n",
      "8       The Quantum Adjustable 2-Light LED Black Emerg...  \n",
      "9       Get the House of Fara 3/4 in. x 3 in. x 8 ft. ...  \n",
      "10      Valley View Industries Metal Stakes (4-Pack) a...  \n",
      "11      Recycler 22 in. Personal Pace Variable Speed S...  \n",
      "12      Recycler 22 in. Personal Pace Variable Speed S...  \n",
      "13      Recycler 22 in. Personal Pace Variable Speed S...  \n",
      "14      The 96 in. wide Caramel Simple Weave Rollup Ba...  \n",
      "15      The InSinkErator SinkTop Switch Single Outlet ...  \n",
      "16      Make grilling great with this handsome and fun...  \n",
      "17      The MD Building Products 36 in. x 36 in. x 1/5...  \n",
      "18      The MD Building Products 36 in. x 36 in. x 1/5...  \n",
      "19      The MD Building Products 36 in. x 36 in. x 1/5...  \n",
      "20      The MD Building Products 36 in. x 36 in. x 1/5...  \n",
      "21      The House of Fara 8 Linear ft. primed MDF Over...  \n",
      "22      The House of Fara 8 Linear ft. primed MDF Over...  \n",
      "23      The House of Fara 8 Linear ft. primed MDF Over...  \n",
      "24      The House of Fara 8 Linear ft. primed MDF Over...  \n",
      "25      The House of Fara 8 Linear ft. primed MDF Over...  \n",
      "26      The House of Fara 8 Linear ft. primed MDF Over...  \n",
      "27      Installed in parks and backyards across the gl...  \n",
      "28      Installed in parks and backyards across the gl...  \n",
      "29      The Samsung 4.2 cu. ft. Front Load Washer with...  \n",
      "...                                                   ...  \n",
      "240730  Give your home a custom look with Plantation s...  \n",
      "240731  The Eaton CSR 200-Amp Double-Pole Main Breaker...  \n",
      "240732  These push nuts have no screw thread but have ...  \n",
      "240733  The Dickies Utility Knife Sheath is constructe...  \n",
      "240734  Carefree resin durability, while adding elegan...  \n",
      "240735  The Speakman branded emergency eyewash safety ...  \n",
      "240736  The PL-65111-01 is a Plantronics phone accesso...  \n",
      "240737  The 1940's are back with a hint of today. Avai...  \n",
      "240738  Step up to designer styles and superior securi...  \n",
      "240739  1/2 in. x 100 ft. IPS 125 psi NSF Poly Pipe is...  \n",
      "240740  Enjoy optimal viewing areas with the Magnavox ...  \n",
      "240741  Beautiful crown moulding is a great way to sep...  \n",
      "240742  Minwax Polycrylic Protective Finish is a prote...  \n",
      "240743  The Pink Stella Camellia from the Southern Liv...  \n",
      "240744  Your GE 30 in. 5.0 cu. ft. Gas Range with Self...  \n",
      "240745  Southwires Submersible Pump cable is used subm...  \n",
      "240746  Generacs new Protector Series diesel generator...  \n",
      "240747  The Clearflo Brass Toe-tap bath drain works pe...  \n",
      "240748  The Light Kit by Casablanca is a great design ...  \n",
      "240749  The Glidden Premium 5-gal. Satin Latex Exterio...  \n",
      "240750  Paracord is ideal for camping, hiking and othe...  \n",
      "240751  Crown Bolt's shoulder bolts are also known as ...  \n",
      "240752  Wheel Chair Accessible's provide a safe and in...  \n",
      "240753  These wood screws are thread forming screws wi...  \n",
      "240754  The Legend Series framed swing stand-alone con...  \n",
      "240755  Create a neat yet stylish storage space for or...  \n",
      "240756  Our Bullnose Adirondack Chair Cushions fit Adi...  \n",
      "240757  Joist hangers are designed to provide support ...  \n",
      "240758  These socket cap screws are ideal for applicat...  \n",
      "240759  The Bosch quick change bi-metal hole saws feat...  \n",
      "\n",
      "[240760 rows x 6 columns]\n"
     ]
    }
   ],
   "source": [
    "print(df_all)"
   ]
  },
  {
   "cell_type": "code",
   "execution_count": 5,
   "metadata": {
    "collapsed": true
   },
   "outputs": [],
   "source": [
    "df_all['search_term'] = df_all['search_term'].map(lambda x:str_stemmer(x))\n",
    "df_all['product_title'] = df_all['product_title'].map(lambda x:str_stemmer(x))\n",
    "df_all['product_description'] = df_all['product_description'].map(lambda x:str_stemmer(x))"
   ]
  },
  {
   "cell_type": "code",
   "execution_count": 6,
   "metadata": {
    "collapsed": true
   },
   "outputs": [],
   "source": [
    "df_all['len_of_query'] = df_all['search_term'].map(lambda x:len(x.split())).astype(np.int64)\n",
    "\n",
    "df_all['product_info'] = df_all['search_term']+\"\\t\"+df_all['product_title']+\"\\t\"+df_all['product_description']\n",
    "\n",
    "df_all['word_in_title'] = df_all['product_info'].map(lambda x:str_common_word(x.split('\\t')[0],x.split('\\t')[1]))\n",
    "df_all['word_in_description'] = df_all['product_info'].map(lambda x:str_common_word(x.split('\\t')[0],x.split('\\t')[2]))"
   ]
  },
  {
   "cell_type": "code",
   "execution_count": 7,
   "metadata": {
    "collapsed": true
   },
   "outputs": [],
   "source": [
    "df_all = df_all.drop(['search_term','product_title','product_description','product_info'],axis=1)"
   ]
  },
  {
   "cell_type": "code",
   "execution_count": 57,
   "metadata": {
    "collapsed": true
   },
   "outputs": [],
   "source": [
    "df_train = df_all.iloc[:num_train]\n",
    "df_test = df_all.iloc[num_train:]\n",
    "id_test = df_test['id']\n",
    "\n",
    "y_train = df_train['relevance'].values\n",
    "X_train = df_train.drop(['id','relevance'],axis=1).values\n",
    "X_test = df_test.drop(['id','relevance'],axis=1).values"
   ]
  },
  {
   "cell_type": "code",
   "execution_count": 60,
   "metadata": {
    "collapsed": true
   },
   "outputs": [],
   "source": [
    "rf = RandomForestRegressor(n_estimators=15, max_depth=6, random_state=0)\n",
    "clf = BaggingRegressor(rf, n_estimators=45, max_samples=0.1, random_state=25)\n",
    "clf.fit(X_train, y_train)\n",
    "y_predrf = clf.predict(X_test)"
   ]
  },
  {
   "cell_type": "code",
   "execution_count": 61,
   "metadata": {
    "collapsed": true
   },
   "outputs": [],
   "source": [
    "#nnregressor part"
   ]
  },
  {
   "cell_type": "code",
   "execution_count": 63,
   "metadata": {
    "collapsed": false
   },
   "outputs": [],
   "source": [
    "X_train=X_train[:,1:]\n",
    "X_test=X_test[:,1:]"
   ]
  },
  {
   "cell_type": "code",
   "execution_count": 65,
   "metadata": {
    "collapsed": false
   },
   "outputs": [],
   "source": [
    "from sklearn.neural_network import MLPRegressor"
   ]
  },
  {
   "cell_type": "code",
   "execution_count": 66,
   "metadata": {
    "collapsed": false
   },
   "outputs": [],
   "source": [
    "nn = MLPRegressor(hidden_layer_sizes=(10, 3),  alpha=1e-5, random_state=1, batch_size=100) \n",
    "nn.fit(X_train, y_train)\n",
    "y_prednn = nn.predict(X_test)"
   ]
  },
  {
   "cell_type": "code",
   "execution_count": 67,
   "metadata": {
    "collapsed": false
   },
   "outputs": [
    {
     "name": "stdout",
     "output_type": "stream",
     "text": [
      "[ 2.00580212  2.08847471  2.08847471 ...,  2.48738294  2.66612812\n",
      "  2.29046084]\n"
     ]
    }
   ],
   "source": [
    "print(y_prednn)"
   ]
  },
  {
   "cell_type": "code",
   "execution_count": 69,
   "metadata": {
    "collapsed": false
   },
   "outputs": [
    {
     "name": "stdout",
     "output_type": "stream",
     "text": [
      "[ 2.07215887  2.22417453  2.22417453 ...,  2.12862001  2.42032514\n",
      "  2.31581996]\n"
     ]
    }
   ],
   "source": [
    "print(y_predrf)"
   ]
  },
  {
   "cell_type": "code",
   "execution_count": 70,
   "metadata": {
    "collapsed": true
   },
   "outputs": [],
   "source": [
    "#do the ensemble"
   ]
  },
  {
   "cell_type": "code",
   "execution_count": 71,
   "metadata": {
    "collapsed": false
   },
   "outputs": [],
   "source": [
    "y_pred = 0.5*y_predrf +0.5*y_prednn"
   ]
  },
  {
   "cell_type": "code",
   "execution_count": 72,
   "metadata": {
    "collapsed": false
   },
   "outputs": [
    {
     "name": "stdout",
     "output_type": "stream",
     "text": [
      "[ 2.0389805   2.15632462  2.15632462 ...,  2.30800147  2.54322663\n",
      "  2.3031404 ]\n"
     ]
    }
   ],
   "source": [
    "print(y_pred)"
   ]
  },
  {
   "cell_type": "code",
   "execution_count": null,
   "metadata": {
    "collapsed": true
   },
   "outputs": [],
   "source": []
  }
 ],
 "metadata": {
  "anaconda-cloud": {},
  "kernelspec": {
   "display_name": "Python [conda root]",
   "language": "python",
   "name": "conda-root-py"
  },
  "language_info": {
   "codemirror_mode": {
    "name": "ipython",
    "version": 3
   },
   "file_extension": ".py",
   "mimetype": "text/x-python",
   "name": "python",
   "nbconvert_exporter": "python",
   "pygments_lexer": "ipython3",
   "version": "3.5.2"
  }
 },
 "nbformat": 4,
 "nbformat_minor": 1
}
