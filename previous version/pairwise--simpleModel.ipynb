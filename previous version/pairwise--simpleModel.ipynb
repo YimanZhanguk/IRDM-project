{
 "cells": [
  {
   "cell_type": "markdown",
   "metadata": {},
   "source": [
    "## Import"
   ]
  },
  {
   "cell_type": "code",
   "execution_count": 84,
   "metadata": {
    "collapsed": false
   },
   "outputs": [],
   "source": [
    "import numpy as np\n",
    "import pandas as pd\n",
    "from sklearn.ensemble import BaggingRegressor\n",
    "from nltk.stem.snowball import SnowballStemmer\n",
    "from sklearn import preprocessing\n",
    "from sklearn.ensemble import RandomForestRegressor\n",
    "from sklearn import metrics\n",
    "from sklearn.cross_validation import train_test_split\n",
    "from sklearn.metrics import mean_squared_error\n",
    "\n",
    "import csv"
   ]
  },
  {
   "cell_type": "markdown",
   "metadata": {},
   "source": [
    "## upload data and preprocessing"
   ]
  },
  {
   "cell_type": "code",
   "execution_count": 3,
   "metadata": {
    "collapsed": true
   },
   "outputs": [],
   "source": [
    "df_train = pd.read_csv('/Users/zhangyiman/Desktop/train.csv',encoding=\"ISO-8859-1\")\n",
    "df_test = pd.read_csv('/Users/zhangyiman/Desktop/test.csv',encoding=\"ISO-8859-1\")\n",
    "df_attr = pd.read_csv('/Users/zhangyiman/Desktop/attributes.csv',encoding=\"ISO-8859-1\")\n",
    "df_pro_desc = pd.read_csv('/Users/zhangyiman/Desktop/product_descriptions.csv',encoding=\"ISO-8859-1\")"
   ]
  },
  {
   "cell_type": "code",
   "execution_count": 4,
   "metadata": {
    "collapsed": true
   },
   "outputs": [],
   "source": [
    "stemmer = SnowballStemmer('english')\n",
    "# stemmer\n",
    "\n",
    "def str_stemmer(s):\n",
    "\treturn \" \".join([stemmer.stem(word) for word in s.lower().split()])\n",
    "\n",
    "def str_common_word(str1, str2):\n",
    "\treturn sum(int(str2.find(word)>=0) for word in str1.split())"
   ]
  },
  {
   "cell_type": "code",
   "execution_count": 5,
   "metadata": {
    "collapsed": false
   },
   "outputs": [
    {
     "data": {
      "text/html": [
       "<div>\n",
       "<table border=\"1\" class=\"dataframe\">\n",
       "  <thead>\n",
       "    <tr style=\"text-align: right;\">\n",
       "      <th></th>\n",
       "      <th>id</th>\n",
       "      <th>product_uid</th>\n",
       "      <th>product_title</th>\n",
       "      <th>search_term</th>\n",
       "      <th>relevance</th>\n",
       "    </tr>\n",
       "  </thead>\n",
       "  <tbody>\n",
       "    <tr>\n",
       "      <th>0</th>\n",
       "      <td>2</td>\n",
       "      <td>100001</td>\n",
       "      <td>Simpson Strong-Tie 12-Gauge Angle</td>\n",
       "      <td>angle bracket</td>\n",
       "      <td>3.00</td>\n",
       "    </tr>\n",
       "    <tr>\n",
       "      <th>1</th>\n",
       "      <td>3</td>\n",
       "      <td>100001</td>\n",
       "      <td>Simpson Strong-Tie 12-Gauge Angle</td>\n",
       "      <td>l bracket</td>\n",
       "      <td>2.50</td>\n",
       "    </tr>\n",
       "    <tr>\n",
       "      <th>2</th>\n",
       "      <td>9</td>\n",
       "      <td>100002</td>\n",
       "      <td>BEHR Premium Textured DeckOver 1-gal. #SC-141 ...</td>\n",
       "      <td>deck over</td>\n",
       "      <td>3.00</td>\n",
       "    </tr>\n",
       "    <tr>\n",
       "      <th>3</th>\n",
       "      <td>16</td>\n",
       "      <td>100005</td>\n",
       "      <td>Delta Vero 1-Handle Shower Only Faucet Trim Ki...</td>\n",
       "      <td>rain shower head</td>\n",
       "      <td>2.33</td>\n",
       "    </tr>\n",
       "  </tbody>\n",
       "</table>\n",
       "</div>"
      ],
      "text/plain": [
       "   id  product_uid                                      product_title  \\\n",
       "0   2       100001                  Simpson Strong-Tie 12-Gauge Angle   \n",
       "1   3       100001                  Simpson Strong-Tie 12-Gauge Angle   \n",
       "2   9       100002  BEHR Premium Textured DeckOver 1-gal. #SC-141 ...   \n",
       "3  16       100005  Delta Vero 1-Handle Shower Only Faucet Trim Ki...   \n",
       "\n",
       "        search_term  relevance  \n",
       "0     angle bracket       3.00  \n",
       "1         l bracket       2.50  \n",
       "2         deck over       3.00  \n",
       "3  rain shower head       2.33  "
      ]
     },
     "execution_count": 5,
     "metadata": {},
     "output_type": "execute_result"
    }
   ],
   "source": [
    "df_train[0:4]"
   ]
  },
  {
   "cell_type": "code",
   "execution_count": 6,
   "metadata": {
    "collapsed": false
   },
   "outputs": [],
   "source": [
    "num_train = df_train.shape[0]"
   ]
  },
  {
   "cell_type": "markdown",
   "metadata": {},
   "source": [
    "## concat dataset"
   ]
  },
  {
   "cell_type": "code",
   "execution_count": 7,
   "metadata": {
    "collapsed": true
   },
   "outputs": [],
   "source": [
    "df_all = pd.concat((df_train, df_test), axis=0, ignore_index=True)\n",
    "df_all = pd.merge(df_all, df_pro_desc, how='left', on='product_uid')"
   ]
  },
  {
   "cell_type": "code",
   "execution_count": 8,
   "metadata": {
    "collapsed": false
   },
   "outputs": [
    {
     "data": {
      "text/html": [
       "<div>\n",
       "<table border=\"1\" class=\"dataframe\">\n",
       "  <thead>\n",
       "    <tr style=\"text-align: right;\">\n",
       "      <th></th>\n",
       "      <th>id</th>\n",
       "      <th>product_title</th>\n",
       "      <th>product_uid</th>\n",
       "      <th>relevance</th>\n",
       "      <th>search_term</th>\n",
       "      <th>product_description</th>\n",
       "    </tr>\n",
       "  </thead>\n",
       "  <tbody>\n",
       "    <tr>\n",
       "      <th>0</th>\n",
       "      <td>2</td>\n",
       "      <td>Simpson Strong-Tie 12-Gauge Angle</td>\n",
       "      <td>100001</td>\n",
       "      <td>3.0</td>\n",
       "      <td>angle bracket</td>\n",
       "      <td>Not only do angles make joints stronger, they ...</td>\n",
       "    </tr>\n",
       "    <tr>\n",
       "      <th>1</th>\n",
       "      <td>3</td>\n",
       "      <td>Simpson Strong-Tie 12-Gauge Angle</td>\n",
       "      <td>100001</td>\n",
       "      <td>2.5</td>\n",
       "      <td>l bracket</td>\n",
       "      <td>Not only do angles make joints stronger, they ...</td>\n",
       "    </tr>\n",
       "    <tr>\n",
       "      <th>2</th>\n",
       "      <td>9</td>\n",
       "      <td>BEHR Premium Textured DeckOver 1-gal. #SC-141 ...</td>\n",
       "      <td>100002</td>\n",
       "      <td>3.0</td>\n",
       "      <td>deck over</td>\n",
       "      <td>BEHR Premium Textured DECKOVER is an innovativ...</td>\n",
       "    </tr>\n",
       "  </tbody>\n",
       "</table>\n",
       "</div>"
      ],
      "text/plain": [
       "   id                                      product_title  product_uid  \\\n",
       "0   2                  Simpson Strong-Tie 12-Gauge Angle       100001   \n",
       "1   3                  Simpson Strong-Tie 12-Gauge Angle       100001   \n",
       "2   9  BEHR Premium Textured DeckOver 1-gal. #SC-141 ...       100002   \n",
       "\n",
       "   relevance    search_term                                product_description  \n",
       "0        3.0  angle bracket  Not only do angles make joints stronger, they ...  \n",
       "1        2.5      l bracket  Not only do angles make joints stronger, they ...  \n",
       "2        3.0      deck over  BEHR Premium Textured DECKOVER is an innovativ...  "
      ]
     },
     "execution_count": 8,
     "metadata": {},
     "output_type": "execute_result"
    }
   ],
   "source": [
    "df_all[0:3]"
   ]
  },
  {
   "cell_type": "code",
   "execution_count": 9,
   "metadata": {
    "collapsed": true
   },
   "outputs": [],
   "source": [
    "insert_id = []\n",
    "for i in range(0,240760):\n",
    "    insert_id.append(i)"
   ]
  },
  {
   "cell_type": "code",
   "execution_count": 10,
   "metadata": {
    "collapsed": true
   },
   "outputs": [],
   "source": [
    "df_all['call_id'] = pd.Series(insert_id ,index = df_all.index)"
   ]
  },
  {
   "cell_type": "markdown",
   "metadata": {},
   "source": [
    "## add feature and encode feature"
   ]
  },
  {
   "cell_type": "code",
   "execution_count": 11,
   "metadata": {
    "collapsed": true
   },
   "outputs": [],
   "source": [
    "df_all['len_of_query'] = df_all['search_term'].map(lambda x:len(x.split())).astype(np.int64)\n",
    "\n",
    "df_all['product_info'] = df_all['search_term']+\"\\t\"+df_all['product_title']+\"\\t\"+df_all['product_description']\n",
    "\n",
    "df_all['word_in_title'] = df_all['product_info'].map(lambda x:str_common_word(x.split('\\t')[0],x.split('\\t')[1]))\n",
    "df_all['word_in_description'] = df_all['product_info'].map(lambda x:str_common_word(x.split('\\t')[0],x.split('\\t')[2]))"
   ]
  },
  {
   "cell_type": "code",
   "execution_count": 12,
   "metadata": {
    "collapsed": true
   },
   "outputs": [],
   "source": [
    "df_all = df_all.drop(['product_title','product_description','product_info'],axis=1)"
   ]
  },
  {
   "cell_type": "code",
   "execution_count": 13,
   "metadata": {
    "collapsed": false
   },
   "outputs": [
    {
     "data": {
      "text/html": [
       "<div>\n",
       "<table border=\"1\" class=\"dataframe\">\n",
       "  <thead>\n",
       "    <tr style=\"text-align: right;\">\n",
       "      <th></th>\n",
       "      <th>id</th>\n",
       "      <th>product_uid</th>\n",
       "      <th>relevance</th>\n",
       "      <th>search_term</th>\n",
       "      <th>call_id</th>\n",
       "      <th>len_of_query</th>\n",
       "      <th>word_in_title</th>\n",
       "      <th>word_in_description</th>\n",
       "    </tr>\n",
       "  </thead>\n",
       "  <tbody>\n",
       "    <tr>\n",
       "      <th>0</th>\n",
       "      <td>2</td>\n",
       "      <td>100001</td>\n",
       "      <td>3.0</td>\n",
       "      <td>angle bracket</td>\n",
       "      <td>0</td>\n",
       "      <td>2</td>\n",
       "      <td>0</td>\n",
       "      <td>1</td>\n",
       "    </tr>\n",
       "    <tr>\n",
       "      <th>1</th>\n",
       "      <td>3</td>\n",
       "      <td>100001</td>\n",
       "      <td>2.5</td>\n",
       "      <td>l bracket</td>\n",
       "      <td>1</td>\n",
       "      <td>2</td>\n",
       "      <td>1</td>\n",
       "      <td>1</td>\n",
       "    </tr>\n",
       "    <tr>\n",
       "      <th>2</th>\n",
       "      <td>9</td>\n",
       "      <td>100002</td>\n",
       "      <td>3.0</td>\n",
       "      <td>deck over</td>\n",
       "      <td>2</td>\n",
       "      <td>2</td>\n",
       "      <td>0</td>\n",
       "      <td>2</td>\n",
       "    </tr>\n",
       "  </tbody>\n",
       "</table>\n",
       "</div>"
      ],
      "text/plain": [
       "   id  product_uid  relevance    search_term  call_id  len_of_query  \\\n",
       "0   2       100001        3.0  angle bracket        0             2   \n",
       "1   3       100001        2.5      l bracket        1             2   \n",
       "2   9       100002        3.0      deck over        2             2   \n",
       "\n",
       "   word_in_title  word_in_description  \n",
       "0              0                    1  \n",
       "1              1                    1  \n",
       "2              0                    2  "
      ]
     },
     "execution_count": 13,
     "metadata": {},
     "output_type": "execute_result"
    }
   ],
   "source": [
    "df_all[0:3]"
   ]
  },
  {
   "cell_type": "code",
   "execution_count": null,
   "metadata": {
    "collapsed": true
   },
   "outputs": [],
   "source": []
  },
  {
   "cell_type": "code",
   "execution_count": 14,
   "metadata": {
    "collapsed": false
   },
   "outputs": [],
   "source": [
    "#Set the random seed\n",
    "np.random.seed(12)\n",
    "# Initialize label encoder\n",
    "label_encoder = preprocessing.LabelEncoder()\n",
    "\n",
    "\n",
    "#encode feature\n",
    "df_all[\"search_term\"] = label_encoder.fit_transform(df_all[\"search_term\"])"
   ]
  },
  {
   "cell_type": "code",
   "execution_count": 15,
   "metadata": {
    "collapsed": false
   },
   "outputs": [
    {
     "data": {
      "text/html": [
       "<div>\n",
       "<table border=\"1\" class=\"dataframe\">\n",
       "  <thead>\n",
       "    <tr style=\"text-align: right;\">\n",
       "      <th></th>\n",
       "      <th>id</th>\n",
       "      <th>product_uid</th>\n",
       "      <th>relevance</th>\n",
       "      <th>search_term</th>\n",
       "      <th>call_id</th>\n",
       "      <th>len_of_query</th>\n",
       "      <th>word_in_title</th>\n",
       "      <th>word_in_description</th>\n",
       "    </tr>\n",
       "  </thead>\n",
       "  <tbody>\n",
       "    <tr>\n",
       "      <th>0</th>\n",
       "      <td>2</td>\n",
       "      <td>100001</td>\n",
       "      <td>3.0</td>\n",
       "      <td>4809</td>\n",
       "      <td>0</td>\n",
       "      <td>2</td>\n",
       "      <td>0</td>\n",
       "      <td>1</td>\n",
       "    </tr>\n",
       "    <tr>\n",
       "      <th>1</th>\n",
       "      <td>3</td>\n",
       "      <td>100001</td>\n",
       "      <td>2.5</td>\n",
       "      <td>13903</td>\n",
       "      <td>1</td>\n",
       "      <td>2</td>\n",
       "      <td>1</td>\n",
       "      <td>1</td>\n",
       "    </tr>\n",
       "    <tr>\n",
       "      <th>2</th>\n",
       "      <td>9</td>\n",
       "      <td>100002</td>\n",
       "      <td>3.0</td>\n",
       "      <td>8486</td>\n",
       "      <td>2</td>\n",
       "      <td>2</td>\n",
       "      <td>0</td>\n",
       "      <td>2</td>\n",
       "    </tr>\n",
       "  </tbody>\n",
       "</table>\n",
       "</div>"
      ],
      "text/plain": [
       "   id  product_uid  relevance  search_term  call_id  len_of_query  \\\n",
       "0   2       100001        3.0         4809        0             2   \n",
       "1   3       100001        2.5        13903        1             2   \n",
       "2   9       100002        3.0         8486        2             2   \n",
       "\n",
       "   word_in_title  word_in_description  \n",
       "0              0                    1  \n",
       "1              1                    1  \n",
       "2              0                    2  "
      ]
     },
     "execution_count": 15,
     "metadata": {},
     "output_type": "execute_result"
    }
   ],
   "source": [
    "df_all[0:3]"
   ]
  },
  {
   "cell_type": "code",
   "execution_count": 20,
   "metadata": {
    "collapsed": false
   },
   "outputs": [
    {
     "data": {
      "text/plain": [
       "240760"
      ]
     },
     "execution_count": 20,
     "metadata": {},
     "output_type": "execute_result"
    }
   ],
   "source": [
    "df_all.shape[0]"
   ]
  },
  {
   "cell_type": "code",
   "execution_count": 16,
   "metadata": {
    "collapsed": false
   },
   "outputs": [
    {
     "data": {
      "text/html": [
       "<div>\n",
       "<table border=\"1\" class=\"dataframe\">\n",
       "  <thead>\n",
       "    <tr style=\"text-align: right;\">\n",
       "      <th></th>\n",
       "      <th>id</th>\n",
       "      <th>product_uid</th>\n",
       "      <th>relevance</th>\n",
       "      <th>search_term</th>\n",
       "      <th>call_id</th>\n",
       "      <th>len_of_query</th>\n",
       "      <th>word_in_title</th>\n",
       "      <th>word_in_description</th>\n",
       "    </tr>\n",
       "  </thead>\n",
       "  <tbody>\n",
       "    <tr>\n",
       "      <th>1212</th>\n",
       "      <td>3784</td>\n",
       "      <td>100664</td>\n",
       "      <td>2.67</td>\n",
       "      <td>4809</td>\n",
       "      <td>1212</td>\n",
       "      <td>2</td>\n",
       "      <td>0</td>\n",
       "      <td>1</td>\n",
       "    </tr>\n",
       "    <tr>\n",
       "      <th>1229</th>\n",
       "      <td>3826</td>\n",
       "      <td>100672</td>\n",
       "      <td>2.33</td>\n",
       "      <td>4809</td>\n",
       "      <td>1229</td>\n",
       "      <td>2</td>\n",
       "      <td>0</td>\n",
       "      <td>1</td>\n",
       "    </tr>\n",
       "  </tbody>\n",
       "</table>\n",
       "</div>"
      ],
      "text/plain": [
       "        id  product_uid  relevance  search_term  call_id  len_of_query  \\\n",
       "1212  3784       100664       2.67         4809     1212             2   \n",
       "1229  3826       100672       2.33         4809     1229             2   \n",
       "\n",
       "      word_in_title  word_in_description  \n",
       "1212              0                    1  \n",
       "1229              0                    1  "
      ]
     },
     "execution_count": 16,
     "metadata": {},
     "output_type": "execute_result"
    }
   ],
   "source": [
    "df_all[df_all['search_term']==4809][1:3]"
   ]
  },
  {
   "cell_type": "code",
   "execution_count": 17,
   "metadata": {
    "collapsed": true
   },
   "outputs": [],
   "source": [
    "# Define our features\n",
    "features = [\"product_uid\", \"search_term\", \"len_of_query\", \"word_in_title\", \"word_in_description\"]"
   ]
  },
  {
   "cell_type": "code",
   "execution_count": 71,
   "metadata": {
    "collapsed": true
   },
   "outputs": [],
   "source": [
    "df_train = df_all.iloc[:num_train]\n",
    "df_test = df_all.iloc[num_train:]"
   ]
  },
  {
   "cell_type": "markdown",
   "metadata": {},
   "source": [
    "## FIND pairs of document for same query"
   ]
  },
  {
   "cell_type": "code",
   "execution_count": 75,
   "metadata": {
    "collapsed": true
   },
   "outputs": [],
   "source": [
    "exsited_search_term = []\n",
    "first_call_id = []\n",
    "second_call_id = []"
   ]
  },
  {
   "cell_type": "code",
   "execution_count": 78,
   "metadata": {
    "collapsed": false
   },
   "outputs": [],
   "source": [
    "for call_id in range (0,74067):\n",
    "# find all search_term in whole database\n",
    "\n",
    "    if df_train['search_term'][call_id] not in exsited_search_term:\n",
    "        exsited_search_term.append(df_train['search_term'][call_id])\n",
    "        # find all pairs for this query\n",
    "        \n",
    "        search_term = df_train['search_term'][call_id]\n",
    "        \n",
    "        len_of_same_query_document = len(df_train[df_train['search_term']==search_term]['call_id'].values)\n",
    "        \n",
    "        list_all_in_same_query = []\n",
    "        for i in range(0,len_of_same_query_document):\n",
    "            list_all_in_same_query.append(df_train[df_train['search_term']==search_term]['call_id'].values[i])\n",
    "\n",
    "        for i in range(0,len_of_same_query_document):\n",
    "            first_document_call_id = list_all_in_same_query[i]\n",
    "            for j in range(0,len_of_same_query_document):\n",
    "                second_document_call_id = list_all_in_same_query[j]\n",
    "                \n",
    "                if first_document_call_id != second_document_call_id:\n",
    "                    first_call_id.append(first_document_call_id)\n",
    "                    second_call_id.append(second_document_call_id)"
   ]
  },
  {
   "cell_type": "markdown",
   "metadata": {},
   "source": [
    "## A dataset for pairs of document"
   ]
  },
  {
   "cell_type": "code",
   "execution_count": 81,
   "metadata": {
    "collapsed": true
   },
   "outputs": [],
   "source": [
    "search_term_list = []\n",
    "\n",
    "id_list = []\n",
    "product_id_list = []\n",
    "relevance_list = []\n",
    "len_of_query_list = []\n",
    "word_in_title_list = []\n",
    "word_in_description_list = []\n",
    "\n",
    "id_list_2 = []\n",
    "product_id_list_2 = []\n",
    "relevance_list_2 = []\n",
    "len_of_query_list_2 = []\n",
    "word_in_title_list_2 = []\n",
    "word_in_description_list_2 = []"
   ]
  },
  {
   "cell_type": "code",
   "execution_count": 82,
   "metadata": {
    "collapsed": false
   },
   "outputs": [
    {
     "data": {
      "text/plain": [
       "529310"
      ]
     },
     "execution_count": 82,
     "metadata": {},
     "output_type": "execute_result"
    }
   ],
   "source": [
    "# first_call_id\n",
    "# second_call_id\n",
    "len(second_call_id)"
   ]
  },
  {
   "cell_type": "code",
   "execution_count": 83,
   "metadata": {
    "collapsed": false
   },
   "outputs": [],
   "source": [
    "for i in range(0,len(second_call_id)):\n",
    "    \n",
    "    first_document = first_call_id[i]\n",
    "    second_document = second_call_id[i]\n",
    "    \n",
    "    search_term_list.append(df_train['search_term'][first_document])\n",
    "    id_list.append(df_train['id'][first_document])\n",
    "    product_id_list.append(df_train['product_uid'][first_document])\n",
    "    relevance_list.append(df_train['relevance'][first_document])\n",
    "\n",
    "    len_of_query_list.append(df_train['len_of_query'][first_document])\n",
    "    word_in_title_list.append(df_train['word_in_title'][first_document])\n",
    "    word_in_description_list.append(df_train['word_in_description'][first_document])\n",
    "\n",
    "    id_list_2.append(df_train['id'][second_document])\n",
    "    product_id_list_2.append(df_train['product_uid'][second_document])\n",
    "    relevance_list_2.append(df_train['relevance'][second_document])\n",
    "\n",
    "    len_of_query_list_2.append(df_train['len_of_query'][second_document])\n",
    "    word_in_title_list_2.append(df_train['word_in_title'][second_document])\n",
    "    word_in_description_list_2.append(df_train['word_in_description'][second_document])\n",
    "    "
   ]
  },
  {
   "cell_type": "code",
   "execution_count": 86,
   "metadata": {
    "collapsed": false
   },
   "outputs": [],
   "source": [
    "# write subdataset in a new csv file\n",
    "with open('/Users/zhangyiman/Desktop/dataset_new.csv', 'w') as datacsv:\n",
    "    writer = csv.writer(datacsv,dialect=(\"excel\"))\n",
    "    writer.writerow(['search_term','id_first_document','product_id_first_document','relevance_first_document','len_of_query_first_document','word_in_title_first_document','word_in_description_first_document','id_second_document','product_id_second_document','relevance_second_document','len_of_query_second_document','word_in_title_second_document','word_in_description_second_document'])\n",
    "    \n",
    "    for i in range(0,len(search_term_list)):\n",
    "        writer.writerow([search_term_list[i],id_list[i],product_id_list[i],relevance_list[i],len_of_query_list[i],word_in_title_list[i],word_in_description_list[i],id_list_2[i],product_id_list_2[i],relevance_list_2[i],len_of_query_list_2[i],word_in_title_list_2[i],word_in_description_list_2[i]])\n",
    "    "
   ]
  },
  {
   "cell_type": "code",
   "execution_count": 87,
   "metadata": {
    "collapsed": true
   },
   "outputs": [],
   "source": [
    "df_pair = pd.read_csv('/Users/zhangyiman/Desktop/dataset_new.csv')"
   ]
  },
  {
   "cell_type": "code",
   "execution_count": 91,
   "metadata": {
    "collapsed": false
   },
   "outputs": [
    {
     "data": {
      "text/html": [
       "<div>\n",
       "<table border=\"1\" class=\"dataframe\">\n",
       "  <thead>\n",
       "    <tr style=\"text-align: right;\">\n",
       "      <th></th>\n",
       "      <th>search_term</th>\n",
       "      <th>id_first_document</th>\n",
       "      <th>product_id_first_document</th>\n",
       "      <th>relevance_first_document</th>\n",
       "      <th>len_of_query_first_document</th>\n",
       "      <th>word_in_title_first_document</th>\n",
       "      <th>word_in_description_first_document</th>\n",
       "      <th>id_second_document</th>\n",
       "      <th>product_id_second_document</th>\n",
       "      <th>relevance_second_document</th>\n",
       "      <th>len_of_query_second_document</th>\n",
       "      <th>word_in_title_second_document</th>\n",
       "      <th>word_in_description_second_document</th>\n",
       "    </tr>\n",
       "  </thead>\n",
       "  <tbody>\n",
       "    <tr>\n",
       "      <th>0</th>\n",
       "      <td>4809</td>\n",
       "      <td>2</td>\n",
       "      <td>100001</td>\n",
       "      <td>3.0</td>\n",
       "      <td>2</td>\n",
       "      <td>0</td>\n",
       "      <td>1</td>\n",
       "      <td>3784</td>\n",
       "      <td>100664</td>\n",
       "      <td>2.67</td>\n",
       "      <td>2</td>\n",
       "      <td>0</td>\n",
       "      <td>1</td>\n",
       "    </tr>\n",
       "    <tr>\n",
       "      <th>1</th>\n",
       "      <td>4809</td>\n",
       "      <td>2</td>\n",
       "      <td>100001</td>\n",
       "      <td>3.0</td>\n",
       "      <td>2</td>\n",
       "      <td>0</td>\n",
       "      <td>1</td>\n",
       "      <td>3826</td>\n",
       "      <td>100672</td>\n",
       "      <td>2.33</td>\n",
       "      <td>2</td>\n",
       "      <td>0</td>\n",
       "      <td>1</td>\n",
       "    </tr>\n",
       "    <tr>\n",
       "      <th>2</th>\n",
       "      <td>4809</td>\n",
       "      <td>2</td>\n",
       "      <td>100001</td>\n",
       "      <td>3.0</td>\n",
       "      <td>2</td>\n",
       "      <td>0</td>\n",
       "      <td>1</td>\n",
       "      <td>4319</td>\n",
       "      <td>100739</td>\n",
       "      <td>3.00</td>\n",
       "      <td>2</td>\n",
       "      <td>0</td>\n",
       "      <td>1</td>\n",
       "    </tr>\n",
       "    <tr>\n",
       "      <th>3</th>\n",
       "      <td>4809</td>\n",
       "      <td>2</td>\n",
       "      <td>100001</td>\n",
       "      <td>3.0</td>\n",
       "      <td>2</td>\n",
       "      <td>0</td>\n",
       "      <td>1</td>\n",
       "      <td>6030</td>\n",
       "      <td>101036</td>\n",
       "      <td>1.33</td>\n",
       "      <td>2</td>\n",
       "      <td>0</td>\n",
       "      <td>1</td>\n",
       "    </tr>\n",
       "    <tr>\n",
       "      <th>4</th>\n",
       "      <td>4809</td>\n",
       "      <td>2</td>\n",
       "      <td>100001</td>\n",
       "      <td>3.0</td>\n",
       "      <td>2</td>\n",
       "      <td>0</td>\n",
       "      <td>1</td>\n",
       "      <td>8105</td>\n",
       "      <td>101370</td>\n",
       "      <td>3.00</td>\n",
       "      <td>2</td>\n",
       "      <td>0</td>\n",
       "      <td>1</td>\n",
       "    </tr>\n",
       "  </tbody>\n",
       "</table>\n",
       "</div>"
      ],
      "text/plain": [
       "   search_term  id_first_document  product_id_first_document  \\\n",
       "0         4809                  2                     100001   \n",
       "1         4809                  2                     100001   \n",
       "2         4809                  2                     100001   \n",
       "3         4809                  2                     100001   \n",
       "4         4809                  2                     100001   \n",
       "\n",
       "   relevance_first_document  len_of_query_first_document  \\\n",
       "0                       3.0                            2   \n",
       "1                       3.0                            2   \n",
       "2                       3.0                            2   \n",
       "3                       3.0                            2   \n",
       "4                       3.0                            2   \n",
       "\n",
       "   word_in_title_first_document  word_in_description_first_document  \\\n",
       "0                             0                                   1   \n",
       "1                             0                                   1   \n",
       "2                             0                                   1   \n",
       "3                             0                                   1   \n",
       "4                             0                                   1   \n",
       "\n",
       "   id_second_document  product_id_second_document  relevance_second_document  \\\n",
       "0                3784                      100664                       2.67   \n",
       "1                3826                      100672                       2.33   \n",
       "2                4319                      100739                       3.00   \n",
       "3                6030                      101036                       1.33   \n",
       "4                8105                      101370                       3.00   \n",
       "\n",
       "   len_of_query_second_document  word_in_title_second_document  \\\n",
       "0                             2                              0   \n",
       "1                             2                              0   \n",
       "2                             2                              0   \n",
       "3                             2                              0   \n",
       "4                             2                              0   \n",
       "\n",
       "   word_in_description_second_document  \n",
       "0                                    1  \n",
       "1                                    1  \n",
       "2                                    1  \n",
       "3                                    1  \n",
       "4                                    1  "
      ]
     },
     "execution_count": 91,
     "metadata": {},
     "output_type": "execute_result"
    }
   ],
   "source": [
    "#df_pair[0:100]\n",
    "df_pair[0:5]"
   ]
  },
  {
   "cell_type": "markdown",
   "metadata": {},
   "source": [
    "## set label {-1,0,1} means the which document has higher rank for this query"
   ]
  },
  {
   "cell_type": "code",
   "execution_count": 95,
   "metadata": {
    "collapsed": false
   },
   "outputs": [
    {
     "data": {
      "text/plain": [
       "529310"
      ]
     },
     "execution_count": 95,
     "metadata": {},
     "output_type": "execute_result"
    }
   ],
   "source": [
    "df_pair.shape[0]"
   ]
  },
  {
   "cell_type": "code",
   "execution_count": 96,
   "metadata": {
    "collapsed": true
   },
   "outputs": [],
   "source": [
    "num_pairs = df_pair.shape[0]"
   ]
  },
  {
   "cell_type": "code",
   "execution_count": 98,
   "metadata": {
    "collapsed": false
   },
   "outputs": [],
   "source": [
    "rank_label = []\n",
    "\n",
    "for i in range(0,num_pairs):\n",
    "    relavence_1 = df_pair['relevance_first_document'][i]\n",
    "    relavence_2 = df_pair['relevance_second_document'][i]\n",
    "    if relavence_1 > relavence_2:\n",
    "        rank_label.append(1)\n",
    "    if relavence_1 == relavence_2:\n",
    "        rank_label.append(0)\n",
    "    if relavence_1 < relavence_2:\n",
    "        rank_label.append(-1)\n"
   ]
  },
  {
   "cell_type": "code",
   "execution_count": 99,
   "metadata": {
    "collapsed": true
   },
   "outputs": [],
   "source": [
    "df_pair['rank_label'] = pd.Series(rank_label ,index = df_pair.index)"
   ]
  },
  {
   "cell_type": "code",
   "execution_count": 100,
   "metadata": {
    "collapsed": false
   },
   "outputs": [
    {
     "data": {
      "text/html": [
       "<div>\n",
       "<table border=\"1\" class=\"dataframe\">\n",
       "  <thead>\n",
       "    <tr style=\"text-align: right;\">\n",
       "      <th></th>\n",
       "      <th>search_term</th>\n",
       "      <th>id_first_document</th>\n",
       "      <th>product_id_first_document</th>\n",
       "      <th>relevance_first_document</th>\n",
       "      <th>len_of_query_first_document</th>\n",
       "      <th>word_in_title_first_document</th>\n",
       "      <th>word_in_description_first_document</th>\n",
       "      <th>id_second_document</th>\n",
       "      <th>product_id_second_document</th>\n",
       "      <th>relevance_second_document</th>\n",
       "      <th>len_of_query_second_document</th>\n",
       "      <th>word_in_title_second_document</th>\n",
       "      <th>word_in_description_second_document</th>\n",
       "      <th>rank_label</th>\n",
       "    </tr>\n",
       "  </thead>\n",
       "  <tbody>\n",
       "    <tr>\n",
       "      <th>0</th>\n",
       "      <td>4809</td>\n",
       "      <td>2</td>\n",
       "      <td>100001</td>\n",
       "      <td>3.0</td>\n",
       "      <td>2</td>\n",
       "      <td>0</td>\n",
       "      <td>1</td>\n",
       "      <td>3784</td>\n",
       "      <td>100664</td>\n",
       "      <td>2.67</td>\n",
       "      <td>2</td>\n",
       "      <td>0</td>\n",
       "      <td>1</td>\n",
       "      <td>1</td>\n",
       "    </tr>\n",
       "    <tr>\n",
       "      <th>1</th>\n",
       "      <td>4809</td>\n",
       "      <td>2</td>\n",
       "      <td>100001</td>\n",
       "      <td>3.0</td>\n",
       "      <td>2</td>\n",
       "      <td>0</td>\n",
       "      <td>1</td>\n",
       "      <td>3826</td>\n",
       "      <td>100672</td>\n",
       "      <td>2.33</td>\n",
       "      <td>2</td>\n",
       "      <td>0</td>\n",
       "      <td>1</td>\n",
       "      <td>1</td>\n",
       "    </tr>\n",
       "    <tr>\n",
       "      <th>2</th>\n",
       "      <td>4809</td>\n",
       "      <td>2</td>\n",
       "      <td>100001</td>\n",
       "      <td>3.0</td>\n",
       "      <td>2</td>\n",
       "      <td>0</td>\n",
       "      <td>1</td>\n",
       "      <td>4319</td>\n",
       "      <td>100739</td>\n",
       "      <td>3.00</td>\n",
       "      <td>2</td>\n",
       "      <td>0</td>\n",
       "      <td>1</td>\n",
       "      <td>0</td>\n",
       "    </tr>\n",
       "  </tbody>\n",
       "</table>\n",
       "</div>"
      ],
      "text/plain": [
       "   search_term  id_first_document  product_id_first_document  \\\n",
       "0         4809                  2                     100001   \n",
       "1         4809                  2                     100001   \n",
       "2         4809                  2                     100001   \n",
       "\n",
       "   relevance_first_document  len_of_query_first_document  \\\n",
       "0                       3.0                            2   \n",
       "1                       3.0                            2   \n",
       "2                       3.0                            2   \n",
       "\n",
       "   word_in_title_first_document  word_in_description_first_document  \\\n",
       "0                             0                                   1   \n",
       "1                             0                                   1   \n",
       "2                             0                                   1   \n",
       "\n",
       "   id_second_document  product_id_second_document  relevance_second_document  \\\n",
       "0                3784                      100664                       2.67   \n",
       "1                3826                      100672                       2.33   \n",
       "2                4319                      100739                       3.00   \n",
       "\n",
       "   len_of_query_second_document  word_in_title_second_document  \\\n",
       "0                             2                              0   \n",
       "1                             2                              0   \n",
       "2                             2                              0   \n",
       "\n",
       "   word_in_description_second_document  rank_label  \n",
       "0                                    1           1  \n",
       "1                                    1           1  \n",
       "2                                    1           0  "
      ]
     },
     "execution_count": 100,
     "metadata": {},
     "output_type": "execute_result"
    }
   ],
   "source": [
    "df_pair[0:3]"
   ]
  },
  {
   "cell_type": "code",
   "execution_count": 102,
   "metadata": {
    "collapsed": false
   },
   "outputs": [],
   "source": [
    "df_pair = df_pair.drop(['relevance_first_document','relevance_second_document'],axis=1)"
   ]
  },
  {
   "cell_type": "code",
   "execution_count": 103,
   "metadata": {
    "collapsed": false
   },
   "outputs": [
    {
     "data": {
      "text/html": [
       "<div>\n",
       "<table border=\"1\" class=\"dataframe\">\n",
       "  <thead>\n",
       "    <tr style=\"text-align: right;\">\n",
       "      <th></th>\n",
       "      <th>search_term</th>\n",
       "      <th>id_first_document</th>\n",
       "      <th>product_id_first_document</th>\n",
       "      <th>len_of_query_first_document</th>\n",
       "      <th>word_in_title_first_document</th>\n",
       "      <th>word_in_description_first_document</th>\n",
       "      <th>id_second_document</th>\n",
       "      <th>product_id_second_document</th>\n",
       "      <th>len_of_query_second_document</th>\n",
       "      <th>word_in_title_second_document</th>\n",
       "      <th>word_in_description_second_document</th>\n",
       "      <th>rank_label</th>\n",
       "    </tr>\n",
       "  </thead>\n",
       "  <tbody>\n",
       "    <tr>\n",
       "      <th>0</th>\n",
       "      <td>4809</td>\n",
       "      <td>2</td>\n",
       "      <td>100001</td>\n",
       "      <td>2</td>\n",
       "      <td>0</td>\n",
       "      <td>1</td>\n",
       "      <td>3784</td>\n",
       "      <td>100664</td>\n",
       "      <td>2</td>\n",
       "      <td>0</td>\n",
       "      <td>1</td>\n",
       "      <td>1</td>\n",
       "    </tr>\n",
       "    <tr>\n",
       "      <th>1</th>\n",
       "      <td>4809</td>\n",
       "      <td>2</td>\n",
       "      <td>100001</td>\n",
       "      <td>2</td>\n",
       "      <td>0</td>\n",
       "      <td>1</td>\n",
       "      <td>3826</td>\n",
       "      <td>100672</td>\n",
       "      <td>2</td>\n",
       "      <td>0</td>\n",
       "      <td>1</td>\n",
       "      <td>1</td>\n",
       "    </tr>\n",
       "    <tr>\n",
       "      <th>2</th>\n",
       "      <td>4809</td>\n",
       "      <td>2</td>\n",
       "      <td>100001</td>\n",
       "      <td>2</td>\n",
       "      <td>0</td>\n",
       "      <td>1</td>\n",
       "      <td>4319</td>\n",
       "      <td>100739</td>\n",
       "      <td>2</td>\n",
       "      <td>0</td>\n",
       "      <td>1</td>\n",
       "      <td>0</td>\n",
       "    </tr>\n",
       "  </tbody>\n",
       "</table>\n",
       "</div>"
      ],
      "text/plain": [
       "   search_term  id_first_document  product_id_first_document  \\\n",
       "0         4809                  2                     100001   \n",
       "1         4809                  2                     100001   \n",
       "2         4809                  2                     100001   \n",
       "\n",
       "   len_of_query_first_document  word_in_title_first_document  \\\n",
       "0                            2                             0   \n",
       "1                            2                             0   \n",
       "2                            2                             0   \n",
       "\n",
       "   word_in_description_first_document  id_second_document  \\\n",
       "0                                   1                3784   \n",
       "1                                   1                3826   \n",
       "2                                   1                4319   \n",
       "\n",
       "   product_id_second_document  len_of_query_second_document  \\\n",
       "0                      100664                             2   \n",
       "1                      100672                             2   \n",
       "2                      100739                             2   \n",
       "\n",
       "   word_in_title_second_document  word_in_description_second_document  \\\n",
       "0                              0                                    1   \n",
       "1                              0                                    1   \n",
       "2                              0                                    1   \n",
       "\n",
       "   rank_label  \n",
       "0           1  \n",
       "1           1  \n",
       "2           0  "
      ]
     },
     "execution_count": 103,
     "metadata": {},
     "output_type": "execute_result"
    }
   ],
   "source": [
    "df_pair[0:3]"
   ]
  },
  {
   "cell_type": "markdown",
   "metadata": {
    "collapsed": true
   },
   "source": [
    "## Predict the probability for each pair of document"
   ]
  },
  {
   "cell_type": "code",
   "execution_count": 114,
   "metadata": {
    "collapsed": true
   },
   "outputs": [],
   "source": [
    "# Initialize the Random Forest model\n",
    "\n",
    "rf_model = RandomForestRegressor(n_estimators=1000)"
   ]
  },
  {
   "cell_type": "code",
   "execution_count": 116,
   "metadata": {
    "collapsed": true
   },
   "outputs": [],
   "source": [
    "# Define our features\n",
    "features = [\"search_term\", \"id_first_document\", \"len_of_query_first_document\",\"word_in_title_first_document\",\n",
    "            \"word_in_description_first_document\", \"id_second_document\", \"product_id_second_document\", \"len_of_query_second_document\",\n",
    "            \"word_in_title_second_document\", \"word_in_description_second_document\"]\n",
    "\n",
    "# Train the model\n",
    "X = df_pair_train[features].values\n",
    "y = df_pair_train[\"rank_label\"].values"
   ]
  },
  {
   "cell_type": "code",
   "execution_count": 123,
   "metadata": {
    "collapsed": true
   },
   "outputs": [],
   "source": [
    "train_x, test_x, train_y, test_y = train_test_split(X, \n",
    "                                                    y, \n",
    "                                                    test_size=0.80, \n",
    "                                                    random_state=0)"
   ]
  },
  {
   "cell_type": "code",
   "execution_count": 124,
   "metadata": {
    "collapsed": false
   },
   "outputs": [],
   "source": [
    "# Train the RF\n",
    "rf_model.fit(train_x, train_y)\n",
    "predict_y = rf_model.predict(test_x)"
   ]
  },
  {
   "cell_type": "code",
   "execution_count": 129,
   "metadata": {
    "collapsed": false
   },
   "outputs": [
    {
     "data": {
      "text/plain": [
       "array([ 0.039, -0.166, -0.012, ...,  0.674,  0.   , -0.268])"
      ]
     },
     "execution_count": 129,
     "metadata": {},
     "output_type": "execute_result"
    }
   ],
   "source": [
    "predict_y"
   ]
  },
  {
   "cell_type": "markdown",
   "metadata": {
    "collapsed": true
   },
   "source": [
    "## evaluation "
   ]
  },
  {
   "cell_type": "code",
   "execution_count": 126,
   "metadata": {
    "collapsed": true
   },
   "outputs": [],
   "source": [
    "# Caculate the root mean square rooot\n",
    "def rmse(predictions, targets):\n",
    "\n",
    "    differences = predictions - targets                       #the DIFFERENCEs.\n",
    "\n",
    "    differences_squared = differences ** 2                    #the SQUAREs of ^\n",
    "\n",
    "    mean_of_differences_squared = differences_squared.mean()  #the MEAN of ^\n",
    "\n",
    "    rmse_val = np.sqrt(mean_of_differences_squared)           #ROOT of ^\n",
    "\n",
    "    return rmse_val "
   ]
  },
  {
   "cell_type": "code",
   "execution_count": 127,
   "metadata": {
    "collapsed": false
   },
   "outputs": [
    {
     "name": "stdout",
     "output_type": "stream",
     "text": [
      "RMSE on test dataset = 0.82\n"
     ]
    }
   ],
   "source": [
    "print (\"RMSE on test dataset = %.2f\" % (rmse(test_y, predict_y)))"
   ]
  }
 ],
 "metadata": {
  "anaconda-cloud": {},
  "kernelspec": {
   "display_name": "Python [conda root]",
   "language": "python",
   "name": "conda-root-py"
  },
  "language_info": {
   "codemirror_mode": {
    "name": "ipython",
    "version": 3
   },
   "file_extension": ".py",
   "mimetype": "text/x-python",
   "name": "python",
   "nbconvert_exporter": "python",
   "pygments_lexer": "ipython3",
   "version": "3.5.2"
  }
 },
 "nbformat": 4,
 "nbformat_minor": 0
}
